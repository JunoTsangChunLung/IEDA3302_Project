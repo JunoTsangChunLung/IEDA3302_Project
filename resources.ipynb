{
 "cells": [
  {
   "cell_type": "markdown",
   "metadata": {},
   "source": [
    "### Import of data"
   ]
  },
  {
   "cell_type": "code",
   "execution_count": 188,
   "metadata": {},
   "outputs": [],
   "source": [
    "import requests\n",
    "import pandas as pd\n",
    "import numpy as np\n",
    "import json\n",
    "import matplotlib.pyplot as plt"
   ]
  },
  {
   "cell_type": "markdown",
   "metadata": {},
   "source": [
    "### Data we going to use in csv"
   ]
  },
  {
   "cell_type": "code",
   "execution_count": 189,
   "metadata": {},
   "outputs": [],
   "source": [
    "features = [\"hktv_ad_id\", \"order_value\", \"primary_category_name_en\"]"
   ]
  },
  {
   "cell_type": "markdown",
   "metadata": {},
   "source": [
    "### Import csv, from 2021 November to 2022 November, each months 1st day"
   ]
  },
  {
   "cell_type": "code",
   "execution_count": 190,
   "metadata": {},
   "outputs": [],
   "source": [
    "csv_1 = pd.read_csv('csv/Public_Transaction_2021-11-01.csv', usecols=features)\n",
    "csv_2 = pd.read_csv('csv/Public_Transaction_2021-12-01.csv', usecols=features)\n",
    "csv_3 = pd.read_csv('csv/Public_Transaction_2022-01-01.csv', usecols=features)\n",
    "csv_4 = pd.read_csv('csv/Public_Transaction_2022-02-01.csv', usecols=features)\n",
    "csv_5 = pd.read_csv('csv/Public_Transaction_2022-03-01.csv', usecols=features)\n",
    "csv_6 = pd.read_csv('csv/Public_Transaction_2022-04-01.csv', usecols=features)\n",
    "csv_7 = pd.read_csv('csv/Public_Transaction_2022-05-01.csv', usecols=features)\n",
    "csv_8 = pd.read_csv('csv/Public_Transaction_2022-06-01.csv', usecols=features)\n",
    "csv_9 = pd.read_csv('csv/Public_Transaction_2022-07-01.csv', usecols=features)\n",
    "csv_10 = pd.read_csv('csv/Public_Transaction_2022-08-01.csv', usecols=features)\n",
    "csv_11 = pd.read_csv('csv/Public_Transaction_2022-09-01.csv', usecols=features)\n",
    "csv_12 = pd.read_csv('csv/Public_Transaction_2022-10-01.csv', usecols=features)\n",
    "csv_13 = pd.read_csv('csv/Public_Transaction_2022-11-01.csv', usecols=features)"
   ]
  },
  {
   "cell_type": "markdown",
   "metadata": {},
   "source": [
    "### Joining all the csv into a large dataframe"
   ]
  },
  {
   "cell_type": "code",
   "execution_count": 191,
   "metadata": {},
   "outputs": [],
   "source": [
    "df_1 = pd.concat([csv_1,csv_2,csv_3,csv_4,csv_5,csv_6,csv_7,csv_8,csv_9,csv_10,csv_11,csv_12,csv_13], ignore_index=True)"
   ]
  },
  {
   "cell_type": "markdown",
   "metadata": {},
   "source": [
    "### Number of Data"
   ]
  },
  {
   "cell_type": "code",
   "execution_count": 192,
   "metadata": {},
   "outputs": [
    {
     "data": {
      "text/plain": [
       "3030730"
      ]
     },
     "execution_count": 192,
     "metadata": {},
     "output_type": "execute_result"
    }
   ],
   "source": [
    "df_1.shape[0]"
   ]
  },
  {
   "cell_type": "markdown",
   "metadata": {},
   "source": [
    "### Read the user's data including gender and age range"
   ]
  },
  {
   "cell_type": "code",
   "execution_count": 193,
   "metadata": {},
   "outputs": [],
   "source": [
    "f = open(\"sampleJSON.txt\", encoding='utf-8').read()\n",
    "feature = [\"hktv_ad_id\", \"gender\", \"age_range\"]\n",
    "t = f.split(\"\\n\")\n",
    "t.pop()\n",
    "empty = []\n",
    "for i in t:\n",
    "    rows = json.loads(i)\n",
    "    empty.append([rows[\"hktv_ad_id\"], rows[\"gender\"], rows[\"age_range\"]])\n",
    "df_2 = pd.DataFrame(empty, columns=feature)"
   ]
  },
  {
   "cell_type": "markdown",
   "metadata": {},
   "source": [
    "### order value : From range (i.e. 5000-6000) to value (5000+6000 /2 = 5500)"
   ]
  },
  {
   "cell_type": "code",
   "execution_count": 194,
   "metadata": {},
   "outputs": [],
   "source": [
    "#Make grouped data to numerical data\n",
    "\n",
    "data = []\n",
    "for i in range(len(df_1['order_value'])):\n",
    "    num = df_1['order_value'][i].split(' - ')\n",
    "    data.append((int(num[0])+int(num[1]))/2)\n",
    "\n",
    "df_1[\"price\"] = data"
   ]
  },
  {
   "cell_type": "markdown",
   "metadata": {},
   "source": [
    "### same as order value, from age_range ot age"
   ]
  },
  {
   "cell_type": "code",
   "execution_count": 195,
   "metadata": {},
   "outputs": [],
   "source": [
    "#Make grouped data to numerical data\n",
    "\n",
    "data = []\n",
    "for i in range(len(df_2['age_range'])):\n",
    "    if df_2['age_range'][i] == None or df_2['age_range'][i] == \"\":\n",
    "        data.append(np.nan)\n",
    "        continue\n",
    "    if df_2['age_range'][i].split('_')[1] == '55plus':\n",
    "        data.append(60)\n",
    "    elif df_2['age_range'][i].split('_')[1] == \"12\":\n",
    "        data.append(10)\n",
    "    else:\n",
    "        num = df_2['age_range'][i].split('_')\n",
    "        data.append((int(num[1])+int(num[2]))/2)\n",
    "\n",
    "df_2['age'] = data"
   ]
  },
  {
   "cell_type": "markdown",
   "metadata": {},
   "source": [
    "### Merging the transaction table and user data table, by the customer id (hktv_ad_id)"
   ]
  },
  {
   "cell_type": "code",
   "execution_count": 196,
   "metadata": {},
   "outputs": [],
   "source": [
    "df = pd.merge(df_1, df_2, on=\"hktv_ad_id\")\n",
    "df.drop(labels=[\"order_value\", \"age_range\"], axis=1, inplace=True)"
   ]
  },
  {
   "cell_type": "code",
   "execution_count": 197,
   "metadata": {},
   "outputs": [],
   "source": [
    "#dealing with null and none data?\n",
    "\n",
    "#price -> mean according to?\n",
    "df['price'].fillna(value = df['price'].mean(), inplace = True)\n",
    "#age -> mean according to?\n",
    "df['age'].fillna(value = df['age'].mean(), inplace = True)\n",
    "#gender = none\n",
    "df.dropna(inplace=True)"
   ]
  },
  {
   "cell_type": "code",
   "execution_count": 198,
   "metadata": {},
   "outputs": [
    {
     "data": {
      "text/plain": [
       "hktv_ad_id                  0\n",
       "primary_category_name_en    0\n",
       "price                       0\n",
       "gender                      0\n",
       "age                         0\n",
       "dtype: int64"
      ]
     },
     "execution_count": 198,
     "metadata": {},
     "output_type": "execute_result"
    }
   ],
   "source": [
    "#Check for the missing value again\n",
    "df.isna().sum()"
   ]
  },
  {
   "cell_type": "code",
   "execution_count": 221,
   "metadata": {},
   "outputs": [],
   "source": [
    "#Rename the 'primary_category_name_en' to 'category'\n",
    "df.rename(columns={'primary_category_name_en':'category', 'hktv_ad_id':'user'}, inplace=True)\n",
    "#Reorder to let the target value to be the last column\n",
    "df = df.reindex(columns=[\"user\", \"gender\", \"age\", \"category\", \"price\"])"
   ]
  },
  {
   "cell_type": "code",
   "execution_count": 222,
   "metadata": {},
   "outputs": [],
   "source": [
    "from sklearn.preprocessing import LabelEncoder"
   ]
  },
  {
   "cell_type": "code",
   "execution_count": 223,
   "metadata": {},
   "outputs": [],
   "source": [
    "l1 = LabelEncoder()\n",
    "cat = ['category', 'gender']\n",
    "for parameter in cat:\n",
    "    l1.fit(df[parameter])\n",
    "    df[parameter] = l1.transform(df[parameter])"
   ]
  },
  {
   "cell_type": "code",
   "execution_count": 224,
   "metadata": {},
   "outputs": [
    {
     "data": {
      "text/plain": [
       "106446"
      ]
     },
     "execution_count": 224,
     "metadata": {},
     "output_type": "execute_result"
    }
   ],
   "source": [
    "# Number of data after merge and concating all csv\n",
    "df.shape[0]"
   ]
  },
  {
   "cell_type": "code",
   "execution_count": 238,
   "metadata": {},
   "outputs": [
    {
     "data": {
      "text/html": [
       "<div>\n",
       "<style scoped>\n",
       "    .dataframe tbody tr th:only-of-type {\n",
       "        vertical-align: middle;\n",
       "    }\n",
       "\n",
       "    .dataframe tbody tr th {\n",
       "        vertical-align: top;\n",
       "    }\n",
       "\n",
       "    .dataframe thead th {\n",
       "        text-align: right;\n",
       "    }\n",
       "</style>\n",
       "<table border=\"1\" class=\"dataframe\">\n",
       "  <thead>\n",
       "    <tr style=\"text-align: right;\">\n",
       "      <th></th>\n",
       "      <th>user</th>\n",
       "      <th>gender</th>\n",
       "      <th>age</th>\n",
       "      <th>category</th>\n",
       "      <th>price</th>\n",
       "    </tr>\n",
       "  </thead>\n",
       "  <tbody>\n",
       "    <tr>\n",
       "      <th>8</th>\n",
       "      <td>LHXRgMIvLsJIsBZ9EcE6h8jLWkWboqseR1ftfkTPD/U=</td>\n",
       "      <td>0</td>\n",
       "      <td>22.5</td>\n",
       "      <td>12</td>\n",
       "      <td>324.5</td>\n",
       "    </tr>\n",
       "    <tr>\n",
       "      <th>17</th>\n",
       "      <td>W5UIVAX8xv2iZFRYSjDEOmX3wcpAEQvU+SW8p7hAFO4=</td>\n",
       "      <td>0</td>\n",
       "      <td>30.0</td>\n",
       "      <td>12</td>\n",
       "      <td>424.5</td>\n",
       "    </tr>\n",
       "    <tr>\n",
       "      <th>18</th>\n",
       "      <td>W5UIVAX8xv2iZFRYSjDEOmX3wcpAEQvU+SW8p7hAFO4=</td>\n",
       "      <td>0</td>\n",
       "      <td>30.0</td>\n",
       "      <td>12</td>\n",
       "      <td>424.5</td>\n",
       "    </tr>\n",
       "    <tr>\n",
       "      <th>19</th>\n",
       "      <td>W5UIVAX8xv2iZFRYSjDEOmX3wcpAEQvU+SW8p7hAFO4=</td>\n",
       "      <td>0</td>\n",
       "      <td>30.0</td>\n",
       "      <td>12</td>\n",
       "      <td>24.5</td>\n",
       "    </tr>\n",
       "    <tr>\n",
       "      <th>20</th>\n",
       "      <td>W5UIVAX8xv2iZFRYSjDEOmX3wcpAEQvU+SW8p7hAFO4=</td>\n",
       "      <td>0</td>\n",
       "      <td>30.0</td>\n",
       "      <td>12</td>\n",
       "      <td>24.5</td>\n",
       "    </tr>\n",
       "  </tbody>\n",
       "</table>\n",
       "</div>"
      ],
      "text/plain": [
       "                                            user  gender   age  category  \\\n",
       "8   LHXRgMIvLsJIsBZ9EcE6h8jLWkWboqseR1ftfkTPD/U=       0  22.5        12   \n",
       "17  W5UIVAX8xv2iZFRYSjDEOmX3wcpAEQvU+SW8p7hAFO4=       0  30.0        12   \n",
       "18  W5UIVAX8xv2iZFRYSjDEOmX3wcpAEQvU+SW8p7hAFO4=       0  30.0        12   \n",
       "19  W5UIVAX8xv2iZFRYSjDEOmX3wcpAEQvU+SW8p7hAFO4=       0  30.0        12   \n",
       "20  W5UIVAX8xv2iZFRYSjDEOmX3wcpAEQvU+SW8p7hAFO4=       0  30.0        12   \n",
       "\n",
       "    price  \n",
       "8   324.5  \n",
       "17  424.5  \n",
       "18  424.5  \n",
       "19   24.5  \n",
       "20   24.5  "
      ]
     },
     "execution_count": 238,
     "metadata": {},
     "output_type": "execute_result"
    }
   ],
   "source": [
    "df.head()"
   ]
  },
  {
   "cell_type": "markdown",
   "metadata": {},
   "source": [
    "# Dimention Reduction JT <hr>"
   ]
  },
  {
   "cell_type": "code",
   "execution_count": 225,
   "metadata": {},
   "outputs": [
    {
     "data": {
      "text/html": [
       "<div>\n",
       "<style scoped>\n",
       "    .dataframe tbody tr th:only-of-type {\n",
       "        vertical-align: middle;\n",
       "    }\n",
       "\n",
       "    .dataframe tbody tr th {\n",
       "        vertical-align: top;\n",
       "    }\n",
       "\n",
       "    .dataframe thead th {\n",
       "        text-align: right;\n",
       "    }\n",
       "</style>\n",
       "<table border=\"1\" class=\"dataframe\">\n",
       "  <thead>\n",
       "    <tr style=\"text-align: right;\">\n",
       "      <th></th>\n",
       "      <th>user</th>\n",
       "      <th>gender</th>\n",
       "      <th>age</th>\n",
       "      <th>category</th>\n",
       "      <th>price</th>\n",
       "    </tr>\n",
       "  </thead>\n",
       "  <tbody>\n",
       "    <tr>\n",
       "      <th>8</th>\n",
       "      <td>LHXRgMIvLsJIsBZ9EcE6h8jLWkWboqseR1ftfkTPD/U=</td>\n",
       "      <td>0</td>\n",
       "      <td>22.5</td>\n",
       "      <td>12</td>\n",
       "      <td>324.5</td>\n",
       "    </tr>\n",
       "    <tr>\n",
       "      <th>17</th>\n",
       "      <td>W5UIVAX8xv2iZFRYSjDEOmX3wcpAEQvU+SW8p7hAFO4=</td>\n",
       "      <td>0</td>\n",
       "      <td>30.0</td>\n",
       "      <td>12</td>\n",
       "      <td>424.5</td>\n",
       "    </tr>\n",
       "    <tr>\n",
       "      <th>18</th>\n",
       "      <td>W5UIVAX8xv2iZFRYSjDEOmX3wcpAEQvU+SW8p7hAFO4=</td>\n",
       "      <td>0</td>\n",
       "      <td>30.0</td>\n",
       "      <td>12</td>\n",
       "      <td>424.5</td>\n",
       "    </tr>\n",
       "    <tr>\n",
       "      <th>19</th>\n",
       "      <td>W5UIVAX8xv2iZFRYSjDEOmX3wcpAEQvU+SW8p7hAFO4=</td>\n",
       "      <td>0</td>\n",
       "      <td>30.0</td>\n",
       "      <td>12</td>\n",
       "      <td>24.5</td>\n",
       "    </tr>\n",
       "    <tr>\n",
       "      <th>20</th>\n",
       "      <td>W5UIVAX8xv2iZFRYSjDEOmX3wcpAEQvU+SW8p7hAFO4=</td>\n",
       "      <td>0</td>\n",
       "      <td>30.0</td>\n",
       "      <td>12</td>\n",
       "      <td>24.5</td>\n",
       "    </tr>\n",
       "  </tbody>\n",
       "</table>\n",
       "</div>"
      ],
      "text/plain": [
       "                                            user  gender   age  category  \\\n",
       "8   LHXRgMIvLsJIsBZ9EcE6h8jLWkWboqseR1ftfkTPD/U=       0  22.5        12   \n",
       "17  W5UIVAX8xv2iZFRYSjDEOmX3wcpAEQvU+SW8p7hAFO4=       0  30.0        12   \n",
       "18  W5UIVAX8xv2iZFRYSjDEOmX3wcpAEQvU+SW8p7hAFO4=       0  30.0        12   \n",
       "19  W5UIVAX8xv2iZFRYSjDEOmX3wcpAEQvU+SW8p7hAFO4=       0  30.0        12   \n",
       "20  W5UIVAX8xv2iZFRYSjDEOmX3wcpAEQvU+SW8p7hAFO4=       0  30.0        12   \n",
       "\n",
       "    price  \n",
       "8   324.5  \n",
       "17  424.5  \n",
       "18  424.5  \n",
       "19   24.5  \n",
       "20   24.5  "
      ]
     },
     "execution_count": 225,
     "metadata": {},
     "output_type": "execute_result"
    }
   ],
   "source": [
    "df.head()"
   ]
  },
  {
   "cell_type": "code",
   "execution_count": 226,
   "metadata": {},
   "outputs": [],
   "source": [
    "from sklearn.preprocessing import StandardScaler"
   ]
  },
  {
   "cell_type": "code",
   "execution_count": 227,
   "metadata": {},
   "outputs": [],
   "source": [
    "variables = ['category', 'gender', 'age']\n",
    "x = df.loc[:, variables].values\n",
    "y = df.loc[:,['price']].values\n",
    "x = StandardScaler().fit_transform(x)\n",
    "x = pd.DataFrame(x)"
   ]
  },
  {
   "cell_type": "code",
   "execution_count": 228,
   "metadata": {},
   "outputs": [],
   "source": [
    "from sklearn.decomposition import PCA"
   ]
  },
  {
   "cell_type": "code",
   "execution_count": 229,
   "metadata": {},
   "outputs": [
    {
     "data": {
      "text/html": [
       "<div>\n",
       "<style scoped>\n",
       "    .dataframe tbody tr th:only-of-type {\n",
       "        vertical-align: middle;\n",
       "    }\n",
       "\n",
       "    .dataframe tbody tr th {\n",
       "        vertical-align: top;\n",
       "    }\n",
       "\n",
       "    .dataframe thead th {\n",
       "        text-align: right;\n",
       "    }\n",
       "</style>\n",
       "<table border=\"1\" class=\"dataframe\">\n",
       "  <thead>\n",
       "    <tr style=\"text-align: right;\">\n",
       "      <th></th>\n",
       "      <th>0</th>\n",
       "      <th>1</th>\n",
       "      <th>2</th>\n",
       "    </tr>\n",
       "  </thead>\n",
       "  <tbody>\n",
       "    <tr>\n",
       "      <th>0</th>\n",
       "      <td>-1.550585</td>\n",
       "      <td>-0.286133</td>\n",
       "      <td>-0.960722</td>\n",
       "    </tr>\n",
       "    <tr>\n",
       "      <th>1</th>\n",
       "      <td>-0.851856</td>\n",
       "      <td>-0.547489</td>\n",
       "      <td>-0.397440</td>\n",
       "    </tr>\n",
       "    <tr>\n",
       "      <th>2</th>\n",
       "      <td>-0.851856</td>\n",
       "      <td>-0.547489</td>\n",
       "      <td>-0.397440</td>\n",
       "    </tr>\n",
       "    <tr>\n",
       "      <th>3</th>\n",
       "      <td>-0.851856</td>\n",
       "      <td>-0.547489</td>\n",
       "      <td>-0.397440</td>\n",
       "    </tr>\n",
       "    <tr>\n",
       "      <th>4</th>\n",
       "      <td>-0.851856</td>\n",
       "      <td>-0.547489</td>\n",
       "      <td>-0.397440</td>\n",
       "    </tr>\n",
       "  </tbody>\n",
       "</table>\n",
       "</div>"
      ],
      "text/plain": [
       "          0         1         2\n",
       "0 -1.550585 -0.286133 -0.960722\n",
       "1 -0.851856 -0.547489 -0.397440\n",
       "2 -0.851856 -0.547489 -0.397440\n",
       "3 -0.851856 -0.547489 -0.397440\n",
       "4 -0.851856 -0.547489 -0.397440"
      ]
     },
     "execution_count": 229,
     "metadata": {},
     "output_type": "execute_result"
    }
   ],
   "source": [
    "pca = PCA()\n",
    "x_pca = pca.fit_transform(x)\n",
    "x_pca = pd.DataFrame(x_pca)\n",
    "x_pca.head()"
   ]
  },
  {
   "cell_type": "markdown",
   "metadata": {},
   "source": [
    "### From Below, we can see that only two parameter cannot even capture 70% of the variance of the data, therefore we won't conduct any dimention reduction here."
   ]
  },
  {
   "cell_type": "code",
   "execution_count": 230,
   "metadata": {},
   "outputs": [
    {
     "data": {
      "text/plain": [
       "0.6851997741887051"
      ]
     },
     "execution_count": 230,
     "metadata": {},
     "output_type": "execute_result"
    }
   ],
   "source": [
    "explained_variance = pca.explained_variance_ratio_\n",
    "explained_variance[:2].sum()"
   ]
  },
  {
   "cell_type": "code",
   "execution_count": 231,
   "metadata": {},
   "outputs": [
    {
     "data": {
      "text/html": [
       "<div>\n",
       "<style scoped>\n",
       "    .dataframe tbody tr th:only-of-type {\n",
       "        vertical-align: middle;\n",
       "    }\n",
       "\n",
       "    .dataframe tbody tr th {\n",
       "        vertical-align: top;\n",
       "    }\n",
       "\n",
       "    .dataframe thead th {\n",
       "        text-align: right;\n",
       "    }\n",
       "</style>\n",
       "<table border=\"1\" class=\"dataframe\">\n",
       "  <thead>\n",
       "    <tr style=\"text-align: right;\">\n",
       "      <th></th>\n",
       "      <th>category</th>\n",
       "      <th>gender</th>\n",
       "      <th>age</th>\n",
       "      <th>price</th>\n",
       "    </tr>\n",
       "  </thead>\n",
       "  <tbody>\n",
       "    <tr>\n",
       "      <th>0</th>\n",
       "      <td>-1.550585</td>\n",
       "      <td>-0.286133</td>\n",
       "      <td>-0.960722</td>\n",
       "      <td>324.5</td>\n",
       "    </tr>\n",
       "    <tr>\n",
       "      <th>1</th>\n",
       "      <td>-0.851856</td>\n",
       "      <td>-0.547489</td>\n",
       "      <td>-0.397440</td>\n",
       "      <td>424.5</td>\n",
       "    </tr>\n",
       "    <tr>\n",
       "      <th>2</th>\n",
       "      <td>-0.851856</td>\n",
       "      <td>-0.547489</td>\n",
       "      <td>-0.397440</td>\n",
       "      <td>424.5</td>\n",
       "    </tr>\n",
       "    <tr>\n",
       "      <th>3</th>\n",
       "      <td>-0.851856</td>\n",
       "      <td>-0.547489</td>\n",
       "      <td>-0.397440</td>\n",
       "      <td>24.5</td>\n",
       "    </tr>\n",
       "    <tr>\n",
       "      <th>4</th>\n",
       "      <td>-0.851856</td>\n",
       "      <td>-0.547489</td>\n",
       "      <td>-0.397440</td>\n",
       "      <td>24.5</td>\n",
       "    </tr>\n",
       "  </tbody>\n",
       "</table>\n",
       "</div>"
      ],
      "text/plain": [
       "   category    gender       age  price\n",
       "0 -1.550585 -0.286133 -0.960722  324.5\n",
       "1 -0.851856 -0.547489 -0.397440  424.5\n",
       "2 -0.851856 -0.547489 -0.397440  424.5\n",
       "3 -0.851856 -0.547489 -0.397440   24.5\n",
       "4 -0.851856 -0.547489 -0.397440   24.5"
      ]
     },
     "execution_count": 231,
     "metadata": {},
     "output_type": "execute_result"
    }
   ],
   "source": [
    "x_pca['price']=y\n",
    "x_pca.columns = ['category', 'gender', 'age', 'price']\n",
    "x_pca.head()"
   ]
  },
  {
   "cell_type": "markdown",
   "metadata": {},
   "source": [
    "# Regression Nathalie<hr>"
   ]
  },
  {
   "cell_type": "markdown",
   "metadata": {},
   "source": [
    "## Thing's to do <br>\n",
    "<h3><ol>\n",
    "<li> train test split: Use sklearn library, 80% training 20% test</li>\n",
    "<li> Model Training: use the best degree aka the best fit line</li>\n",
    "<li> Performance Testing: Use R2 and RMS From HW 5</li>\n",
    "</ol></h3>"
   ]
  },
  {
   "cell_type": "code",
   "execution_count": 236,
   "metadata": {},
   "outputs": [
    {
     "data": {
      "text/html": [
       "<div>\n",
       "<style scoped>\n",
       "    .dataframe tbody tr th:only-of-type {\n",
       "        vertical-align: middle;\n",
       "    }\n",
       "\n",
       "    .dataframe tbody tr th {\n",
       "        vertical-align: top;\n",
       "    }\n",
       "\n",
       "    .dataframe thead th {\n",
       "        text-align: right;\n",
       "    }\n",
       "</style>\n",
       "<table border=\"1\" class=\"dataframe\">\n",
       "  <thead>\n",
       "    <tr style=\"text-align: right;\">\n",
       "      <th></th>\n",
       "      <th>user</th>\n",
       "      <th>gender</th>\n",
       "      <th>age</th>\n",
       "      <th>category</th>\n",
       "      <th>price</th>\n",
       "    </tr>\n",
       "  </thead>\n",
       "  <tbody>\n",
       "    <tr>\n",
       "      <th>8</th>\n",
       "      <td>LHXRgMIvLsJIsBZ9EcE6h8jLWkWboqseR1ftfkTPD/U=</td>\n",
       "      <td>0</td>\n",
       "      <td>22.5</td>\n",
       "      <td>12</td>\n",
       "      <td>324.5</td>\n",
       "    </tr>\n",
       "    <tr>\n",
       "      <th>17</th>\n",
       "      <td>W5UIVAX8xv2iZFRYSjDEOmX3wcpAEQvU+SW8p7hAFO4=</td>\n",
       "      <td>0</td>\n",
       "      <td>30.0</td>\n",
       "      <td>12</td>\n",
       "      <td>424.5</td>\n",
       "    </tr>\n",
       "    <tr>\n",
       "      <th>18</th>\n",
       "      <td>W5UIVAX8xv2iZFRYSjDEOmX3wcpAEQvU+SW8p7hAFO4=</td>\n",
       "      <td>0</td>\n",
       "      <td>30.0</td>\n",
       "      <td>12</td>\n",
       "      <td>424.5</td>\n",
       "    </tr>\n",
       "    <tr>\n",
       "      <th>19</th>\n",
       "      <td>W5UIVAX8xv2iZFRYSjDEOmX3wcpAEQvU+SW8p7hAFO4=</td>\n",
       "      <td>0</td>\n",
       "      <td>30.0</td>\n",
       "      <td>12</td>\n",
       "      <td>24.5</td>\n",
       "    </tr>\n",
       "    <tr>\n",
       "      <th>20</th>\n",
       "      <td>W5UIVAX8xv2iZFRYSjDEOmX3wcpAEQvU+SW8p7hAFO4=</td>\n",
       "      <td>0</td>\n",
       "      <td>30.0</td>\n",
       "      <td>12</td>\n",
       "      <td>24.5</td>\n",
       "    </tr>\n",
       "  </tbody>\n",
       "</table>\n",
       "</div>"
      ],
      "text/plain": [
       "                                            user  gender   age  category  \\\n",
       "8   LHXRgMIvLsJIsBZ9EcE6h8jLWkWboqseR1ftfkTPD/U=       0  22.5        12   \n",
       "17  W5UIVAX8xv2iZFRYSjDEOmX3wcpAEQvU+SW8p7hAFO4=       0  30.0        12   \n",
       "18  W5UIVAX8xv2iZFRYSjDEOmX3wcpAEQvU+SW8p7hAFO4=       0  30.0        12   \n",
       "19  W5UIVAX8xv2iZFRYSjDEOmX3wcpAEQvU+SW8p7hAFO4=       0  30.0        12   \n",
       "20  W5UIVAX8xv2iZFRYSjDEOmX3wcpAEQvU+SW8p7hAFO4=       0  30.0        12   \n",
       "\n",
       "    price  \n",
       "8   324.5  \n",
       "17  424.5  \n",
       "18  424.5  \n",
       "19   24.5  \n",
       "20   24.5  "
      ]
     },
     "execution_count": 236,
     "metadata": {},
     "output_type": "execute_result"
    }
   ],
   "source": [
    "df.head()"
   ]
  },
  {
   "cell_type": "markdown",
   "metadata": {},
   "source": [
    "# Decision Tree Joseph<hr>"
   ]
  },
  {
   "cell_type": "code",
   "execution_count": 233,
   "metadata": {},
   "outputs": [
    {
     "data": {
      "text/html": [
       "<div>\n",
       "<style scoped>\n",
       "    .dataframe tbody tr th:only-of-type {\n",
       "        vertical-align: middle;\n",
       "    }\n",
       "\n",
       "    .dataframe tbody tr th {\n",
       "        vertical-align: top;\n",
       "    }\n",
       "\n",
       "    .dataframe thead th {\n",
       "        text-align: right;\n",
       "    }\n",
       "</style>\n",
       "<table border=\"1\" class=\"dataframe\">\n",
       "  <thead>\n",
       "    <tr style=\"text-align: right;\">\n",
       "      <th></th>\n",
       "      <th>user</th>\n",
       "      <th>gender</th>\n",
       "      <th>age</th>\n",
       "      <th>category</th>\n",
       "      <th>price</th>\n",
       "    </tr>\n",
       "  </thead>\n",
       "  <tbody>\n",
       "    <tr>\n",
       "      <th>8</th>\n",
       "      <td>LHXRgMIvLsJIsBZ9EcE6h8jLWkWboqseR1ftfkTPD/U=</td>\n",
       "      <td>0</td>\n",
       "      <td>22.5</td>\n",
       "      <td>12</td>\n",
       "      <td>324.5</td>\n",
       "    </tr>\n",
       "    <tr>\n",
       "      <th>17</th>\n",
       "      <td>W5UIVAX8xv2iZFRYSjDEOmX3wcpAEQvU+SW8p7hAFO4=</td>\n",
       "      <td>0</td>\n",
       "      <td>30.0</td>\n",
       "      <td>12</td>\n",
       "      <td>424.5</td>\n",
       "    </tr>\n",
       "    <tr>\n",
       "      <th>18</th>\n",
       "      <td>W5UIVAX8xv2iZFRYSjDEOmX3wcpAEQvU+SW8p7hAFO4=</td>\n",
       "      <td>0</td>\n",
       "      <td>30.0</td>\n",
       "      <td>12</td>\n",
       "      <td>424.5</td>\n",
       "    </tr>\n",
       "    <tr>\n",
       "      <th>19</th>\n",
       "      <td>W5UIVAX8xv2iZFRYSjDEOmX3wcpAEQvU+SW8p7hAFO4=</td>\n",
       "      <td>0</td>\n",
       "      <td>30.0</td>\n",
       "      <td>12</td>\n",
       "      <td>24.5</td>\n",
       "    </tr>\n",
       "    <tr>\n",
       "      <th>20</th>\n",
       "      <td>W5UIVAX8xv2iZFRYSjDEOmX3wcpAEQvU+SW8p7hAFO4=</td>\n",
       "      <td>0</td>\n",
       "      <td>30.0</td>\n",
       "      <td>12</td>\n",
       "      <td>24.5</td>\n",
       "    </tr>\n",
       "  </tbody>\n",
       "</table>\n",
       "</div>"
      ],
      "text/plain": [
       "                                            user  gender   age  category  \\\n",
       "8   LHXRgMIvLsJIsBZ9EcE6h8jLWkWboqseR1ftfkTPD/U=       0  22.5        12   \n",
       "17  W5UIVAX8xv2iZFRYSjDEOmX3wcpAEQvU+SW8p7hAFO4=       0  30.0        12   \n",
       "18  W5UIVAX8xv2iZFRYSjDEOmX3wcpAEQvU+SW8p7hAFO4=       0  30.0        12   \n",
       "19  W5UIVAX8xv2iZFRYSjDEOmX3wcpAEQvU+SW8p7hAFO4=       0  30.0        12   \n",
       "20  W5UIVAX8xv2iZFRYSjDEOmX3wcpAEQvU+SW8p7hAFO4=       0  30.0        12   \n",
       "\n",
       "    price  \n",
       "8   324.5  \n",
       "17  424.5  \n",
       "18  424.5  \n",
       "19   24.5  \n",
       "20   24.5  "
      ]
     },
     "execution_count": 233,
     "metadata": {},
     "output_type": "execute_result"
    }
   ],
   "source": [
    "df.head()"
   ]
  },
  {
   "cell_type": "markdown",
   "metadata": {},
   "source": [
    "## Thing's to do <br>\n",
    "<h3><ol>\n",
    "<li> train test split: Use sklearn library, 80% training 20% test</li>\n",
    "<li> Model Training</li>\n",
    "<li> Performance Testing: Use R2 and RMS From HW 5</li>\n",
    "</ol></h3>"
   ]
  },
  {
   "cell_type": "markdown",
   "metadata": {},
   "source": [
    "# Visuallization (HW4) <hr>"
   ]
  },
  {
   "cell_type": "markdown",
   "metadata": {},
   "source": [
    "## Thing's to do <br>\n",
    "<h3><ol>\n",
    "<li>Visualize the dimention reduction data</li>\n",
    "<li>Visualize the regression line with data point</li>\n",
    "</ol></h3>"
   ]
  }
 ],
 "metadata": {
  "kernelspec": {
   "display_name": "Python 3.8.8",
   "language": "python",
   "name": "python3"
  },
  "language_info": {
   "codemirror_mode": {
    "name": "ipython",
    "version": 3
   },
   "file_extension": ".py",
   "mimetype": "text/x-python",
   "name": "python",
   "nbconvert_exporter": "python",
   "pygments_lexer": "ipython3",
   "version": "3.8.8"
  },
  "orig_nbformat": 4,
  "vscode": {
   "interpreter": {
    "hash": "44f5d271ab574e0892b89bc89721f59811f520d4722935913d6084d280aa3414"
   }
  }
 },
 "nbformat": 4,
 "nbformat_minor": 2
}

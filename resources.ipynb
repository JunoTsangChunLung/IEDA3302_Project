{
 "cells": [
  {
   "cell_type": "markdown",
   "metadata": {},
   "source": [
    "### Import of data"
   ]
  },
  {
   "cell_type": "code",
   "execution_count": 115,
   "metadata": {},
   "outputs": [],
   "source": [
    "import requests\n",
    "import pandas as pd\n",
    "import numpy as np\n",
    "import json\n",
    "import matplotlib.pyplot as plt"
   ]
  },
  {
   "cell_type": "markdown",
   "metadata": {},
   "source": [
    "### Data we going to use in csv"
   ]
  },
  {
   "cell_type": "code",
   "execution_count": 116,
   "metadata": {},
   "outputs": [],
   "source": [
    "features = [\"hktv_ad_id\", \"order_value\", \"primary_category_name_en\"]"
   ]
  },
  {
   "cell_type": "markdown",
   "metadata": {},
   "source": [
    "### Import csv, from 2021 November to 2022 November, each months 1st day"
   ]
  },
  {
   "cell_type": "code",
   "execution_count": 117,
   "metadata": {},
   "outputs": [],
   "source": [
    "csv_1 = pd.read_csv('csv/Public_Transaction_2021-11-01.csv', usecols=features)\n",
    "csv_2 = pd.read_csv('csv/Public_Transaction_2021-12-01.csv', usecols=features)\n",
    "csv_3 = pd.read_csv('csv/Public_Transaction_2022-01-01.csv', usecols=features)\n",
    "csv_4 = pd.read_csv('csv/Public_Transaction_2022-02-01.csv', usecols=features)\n",
    "csv_5 = pd.read_csv('csv/Public_Transaction_2022-03-01.csv', usecols=features)\n",
    "csv_6 = pd.read_csv('csv/Public_Transaction_2022-04-01.csv', usecols=features)\n",
    "csv_7 = pd.read_csv('csv/Public_Transaction_2022-05-01.csv', usecols=features)\n",
    "csv_8 = pd.read_csv('csv/Public_Transaction_2022-06-01.csv', usecols=features)\n",
    "csv_9 = pd.read_csv('csv/Public_Transaction_2022-07-01.csv', usecols=features)\n",
    "csv_10 = pd.read_csv('csv/Public_Transaction_2022-08-01.csv', usecols=features)\n",
    "csv_11 = pd.read_csv('csv/Public_Transaction_2022-09-01.csv', usecols=features)\n",
    "csv_12 = pd.read_csv('csv/Public_Transaction_2022-10-01.csv', usecols=features)\n",
    "csv_13 = pd.read_csv('csv/Public_Transaction_2022-11-01.csv', usecols=features)"
   ]
  },
  {
   "cell_type": "markdown",
   "metadata": {},
   "source": [
    "### Joining all the csv into a large dataframe"
   ]
  },
  {
   "cell_type": "code",
   "execution_count": 118,
   "metadata": {},
   "outputs": [],
   "source": [
    "df_1 = pd.concat([csv_1,csv_2,csv_3,csv_4,csv_5,csv_6,csv_7,csv_8,csv_9,csv_10,csv_11,csv_12,csv_13], ignore_index=True)"
   ]
  },
  {
   "cell_type": "markdown",
   "metadata": {},
   "source": [
    "### Number of Data"
   ]
  },
  {
   "cell_type": "code",
   "execution_count": 119,
   "metadata": {},
   "outputs": [
    {
     "data": {
      "text/plain": [
       "3030730"
      ]
     },
     "execution_count": 119,
     "metadata": {},
     "output_type": "execute_result"
    }
   ],
   "source": [
    "df_1.shape[0]"
   ]
  },
  {
   "cell_type": "markdown",
   "metadata": {},
   "source": [
    "### Read the user's data including gender and age range"
   ]
  },
  {
   "cell_type": "code",
   "execution_count": 120,
   "metadata": {},
   "outputs": [],
   "source": [
    "f = open(\"sampleJSON.txt\", encoding='utf-8').read()\n",
    "feature = [\"hktv_ad_id\", \"gender\", \"age_range\"]\n",
    "t = f.split(\"\\n\")\n",
    "t.pop()\n",
    "empty = []\n",
    "for i in t:\n",
    "    rows = json.loads(i)\n",
    "    empty.append([rows[\"hktv_ad_id\"], rows[\"gender\"], rows[\"age_range\"]])\n",
    "df_2 = pd.DataFrame(empty, columns=feature)"
   ]
  },
  {
   "cell_type": "markdown",
   "metadata": {},
   "source": [
    "### order value : From range (i.e. 5000-6000) to value (5000+6000 /2 = 5500)"
   ]
  },
  {
   "cell_type": "code",
   "execution_count": 121,
   "metadata": {},
   "outputs": [],
   "source": [
    "#Make grouped data to numerical data\n",
    "\n",
    "data = []\n",
    "for i in range(len(df_1['order_value'])):\n",
    "    num = df_1['order_value'][i].split(' - ')\n",
    "    data.append((int(num[0])+int(num[1]))/2)\n",
    "\n",
    "df_1[\"price\"] = data"
   ]
  },
  {
   "cell_type": "markdown",
   "metadata": {},
   "source": [
    "### same as order value, from age_range ot age"
   ]
  },
  {
   "cell_type": "code",
   "execution_count": 122,
   "metadata": {},
   "outputs": [],
   "source": [
    "#Make grouped data to numerical data\n",
    "\n",
    "data = []\n",
    "for i in range(len(df_2['age_range'])):\n",
    "    if df_2['age_range'][i] == None or df_2['age_range'][i] == \"\":\n",
    "        data.append(np.nan)\n",
    "        continue\n",
    "    if df_2['age_range'][i].split('_')[1] == '55plus':\n",
    "        data.append(60)\n",
    "    elif df_2['age_range'][i].split('_')[1] == \"12\":\n",
    "        data.append(10)\n",
    "    else:\n",
    "        num = df_2['age_range'][i].split('_')\n",
    "        data.append((int(num[1])+int(num[2]))/2)\n",
    "\n",
    "df_2['age'] = data"
   ]
  },
  {
   "cell_type": "markdown",
   "metadata": {},
   "source": [
    "### Merging the transaction table and user data table, by the customer id (hktv_ad_id)"
   ]
  },
  {
   "cell_type": "code",
   "execution_count": 123,
   "metadata": {},
   "outputs": [],
   "source": [
    "df = pd.merge(df_1, df_2, on=\"hktv_ad_id\")\n",
    "df.drop(labels=[\"order_value\", \"age_range\"], axis=1, inplace=True)"
   ]
  },
  {
   "cell_type": "code",
   "execution_count": 124,
   "metadata": {},
   "outputs": [],
   "source": [
    "#dealing with null and none data?\n",
    "\n",
    "#price -> mean according to?\n",
    "df['price'].fillna(value = df['price'].mean(), inplace = True)\n",
    "#age -> mean according to?\n",
    "df['age'].fillna(value = df['age'].mean(), inplace = True)\n",
    "#gender = none\n",
    "df.dropna(inplace=True)"
   ]
  },
  {
   "cell_type": "code",
   "execution_count": 125,
   "metadata": {},
   "outputs": [
    {
     "data": {
      "text/plain": [
       "hktv_ad_id                  0\n",
       "primary_category_name_en    0\n",
       "price                       0\n",
       "gender                      0\n",
       "age                         0\n",
       "dtype: int64"
      ]
     },
     "execution_count": 125,
     "metadata": {},
     "output_type": "execute_result"
    }
   ],
   "source": [
    "#Check for the missing value again\n",
    "df.isna().sum()"
   ]
  },
  {
   "cell_type": "code",
   "execution_count": 126,
   "metadata": {},
   "outputs": [],
   "source": [
    "#Rename the 'primary_category_name_en' to 'category'\n",
    "df.rename(columns={'primary_category_name_en':'category', 'hktv_ad_id':'user'}, inplace=True)\n",
    "#Reorder to let the target value to be the last column\n",
    "df = df.reindex(columns=[\"user\", \"gender\", \"age\", \"category\", \"price\"])"
   ]
  },
  {
   "cell_type": "code",
   "execution_count": 127,
   "metadata": {},
   "outputs": [],
   "source": [
    "from sklearn.preprocessing import LabelEncoder"
   ]
  },
  {
   "cell_type": "code",
   "execution_count": 128,
   "metadata": {},
   "outputs": [],
   "source": [
    "l1 = LabelEncoder()\n",
    "cat = ['category', 'gender']\n",
    "for parameter in cat:\n",
    "    l1.fit(df[parameter])\n",
    "    df[parameter] = l1.transform(df[parameter])"
   ]
  },
  {
   "cell_type": "code",
   "execution_count": 129,
   "metadata": {},
   "outputs": [
    {
     "data": {
      "text/plain": [
       "106446"
      ]
     },
     "execution_count": 129,
     "metadata": {},
     "output_type": "execute_result"
    }
   ],
   "source": [
    "# Number of data after merge and concating all csv\n",
    "df.shape[0]"
   ]
  },
  {
   "cell_type": "code",
   "execution_count": 130,
   "metadata": {},
   "outputs": [
    {
     "data": {
      "text/html": [
       "<div>\n",
       "<style scoped>\n",
       "    .dataframe tbody tr th:only-of-type {\n",
       "        vertical-align: middle;\n",
       "    }\n",
       "\n",
       "    .dataframe tbody tr th {\n",
       "        vertical-align: top;\n",
       "    }\n",
       "\n",
       "    .dataframe thead th {\n",
       "        text-align: right;\n",
       "    }\n",
       "</style>\n",
       "<table border=\"1\" class=\"dataframe\">\n",
       "  <thead>\n",
       "    <tr style=\"text-align: right;\">\n",
       "      <th></th>\n",
       "      <th>user</th>\n",
       "      <th>gender</th>\n",
       "      <th>age</th>\n",
       "      <th>category</th>\n",
       "      <th>price</th>\n",
       "    </tr>\n",
       "  </thead>\n",
       "  <tbody>\n",
       "    <tr>\n",
       "      <th>8</th>\n",
       "      <td>LHXRgMIvLsJIsBZ9EcE6h8jLWkWboqseR1ftfkTPD/U=</td>\n",
       "      <td>0</td>\n",
       "      <td>22.5</td>\n",
       "      <td>12</td>\n",
       "      <td>324.5</td>\n",
       "    </tr>\n",
       "    <tr>\n",
       "      <th>17</th>\n",
       "      <td>W5UIVAX8xv2iZFRYSjDEOmX3wcpAEQvU+SW8p7hAFO4=</td>\n",
       "      <td>0</td>\n",
       "      <td>30.0</td>\n",
       "      <td>12</td>\n",
       "      <td>424.5</td>\n",
       "    </tr>\n",
       "    <tr>\n",
       "      <th>18</th>\n",
       "      <td>W5UIVAX8xv2iZFRYSjDEOmX3wcpAEQvU+SW8p7hAFO4=</td>\n",
       "      <td>0</td>\n",
       "      <td>30.0</td>\n",
       "      <td>12</td>\n",
       "      <td>424.5</td>\n",
       "    </tr>\n",
       "    <tr>\n",
       "      <th>19</th>\n",
       "      <td>W5UIVAX8xv2iZFRYSjDEOmX3wcpAEQvU+SW8p7hAFO4=</td>\n",
       "      <td>0</td>\n",
       "      <td>30.0</td>\n",
       "      <td>12</td>\n",
       "      <td>24.5</td>\n",
       "    </tr>\n",
       "    <tr>\n",
       "      <th>20</th>\n",
       "      <td>W5UIVAX8xv2iZFRYSjDEOmX3wcpAEQvU+SW8p7hAFO4=</td>\n",
       "      <td>0</td>\n",
       "      <td>30.0</td>\n",
       "      <td>12</td>\n",
       "      <td>24.5</td>\n",
       "    </tr>\n",
       "  </tbody>\n",
       "</table>\n",
       "</div>"
      ],
      "text/plain": [
       "                                            user  gender   age  category  \\\n",
       "8   LHXRgMIvLsJIsBZ9EcE6h8jLWkWboqseR1ftfkTPD/U=       0  22.5        12   \n",
       "17  W5UIVAX8xv2iZFRYSjDEOmX3wcpAEQvU+SW8p7hAFO4=       0  30.0        12   \n",
       "18  W5UIVAX8xv2iZFRYSjDEOmX3wcpAEQvU+SW8p7hAFO4=       0  30.0        12   \n",
       "19  W5UIVAX8xv2iZFRYSjDEOmX3wcpAEQvU+SW8p7hAFO4=       0  30.0        12   \n",
       "20  W5UIVAX8xv2iZFRYSjDEOmX3wcpAEQvU+SW8p7hAFO4=       0  30.0        12   \n",
       "\n",
       "    price  \n",
       "8   324.5  \n",
       "17  424.5  \n",
       "18  424.5  \n",
       "19   24.5  \n",
       "20   24.5  "
      ]
     },
     "execution_count": 130,
     "metadata": {},
     "output_type": "execute_result"
    }
   ],
   "source": [
    "df.head()"
   ]
  },
  {
   "cell_type": "markdown",
   "metadata": {},
   "source": [
    "# Dimention Reduction JT <hr>"
   ]
  },
  {
   "cell_type": "code",
   "execution_count": 131,
   "metadata": {},
   "outputs": [
    {
     "data": {
      "text/html": [
       "<div>\n",
       "<style scoped>\n",
       "    .dataframe tbody tr th:only-of-type {\n",
       "        vertical-align: middle;\n",
       "    }\n",
       "\n",
       "    .dataframe tbody tr th {\n",
       "        vertical-align: top;\n",
       "    }\n",
       "\n",
       "    .dataframe thead th {\n",
       "        text-align: right;\n",
       "    }\n",
       "</style>\n",
       "<table border=\"1\" class=\"dataframe\">\n",
       "  <thead>\n",
       "    <tr style=\"text-align: right;\">\n",
       "      <th></th>\n",
       "      <th>user</th>\n",
       "      <th>gender</th>\n",
       "      <th>age</th>\n",
       "      <th>category</th>\n",
       "      <th>price</th>\n",
       "    </tr>\n",
       "  </thead>\n",
       "  <tbody>\n",
       "    <tr>\n",
       "      <th>8</th>\n",
       "      <td>LHXRgMIvLsJIsBZ9EcE6h8jLWkWboqseR1ftfkTPD/U=</td>\n",
       "      <td>0</td>\n",
       "      <td>22.5</td>\n",
       "      <td>12</td>\n",
       "      <td>324.5</td>\n",
       "    </tr>\n",
       "    <tr>\n",
       "      <th>17</th>\n",
       "      <td>W5UIVAX8xv2iZFRYSjDEOmX3wcpAEQvU+SW8p7hAFO4=</td>\n",
       "      <td>0</td>\n",
       "      <td>30.0</td>\n",
       "      <td>12</td>\n",
       "      <td>424.5</td>\n",
       "    </tr>\n",
       "    <tr>\n",
       "      <th>18</th>\n",
       "      <td>W5UIVAX8xv2iZFRYSjDEOmX3wcpAEQvU+SW8p7hAFO4=</td>\n",
       "      <td>0</td>\n",
       "      <td>30.0</td>\n",
       "      <td>12</td>\n",
       "      <td>424.5</td>\n",
       "    </tr>\n",
       "    <tr>\n",
       "      <th>19</th>\n",
       "      <td>W5UIVAX8xv2iZFRYSjDEOmX3wcpAEQvU+SW8p7hAFO4=</td>\n",
       "      <td>0</td>\n",
       "      <td>30.0</td>\n",
       "      <td>12</td>\n",
       "      <td>24.5</td>\n",
       "    </tr>\n",
       "    <tr>\n",
       "      <th>20</th>\n",
       "      <td>W5UIVAX8xv2iZFRYSjDEOmX3wcpAEQvU+SW8p7hAFO4=</td>\n",
       "      <td>0</td>\n",
       "      <td>30.0</td>\n",
       "      <td>12</td>\n",
       "      <td>24.5</td>\n",
       "    </tr>\n",
       "  </tbody>\n",
       "</table>\n",
       "</div>"
      ],
      "text/plain": [
       "                                            user  gender   age  category  \\\n",
       "8   LHXRgMIvLsJIsBZ9EcE6h8jLWkWboqseR1ftfkTPD/U=       0  22.5        12   \n",
       "17  W5UIVAX8xv2iZFRYSjDEOmX3wcpAEQvU+SW8p7hAFO4=       0  30.0        12   \n",
       "18  W5UIVAX8xv2iZFRYSjDEOmX3wcpAEQvU+SW8p7hAFO4=       0  30.0        12   \n",
       "19  W5UIVAX8xv2iZFRYSjDEOmX3wcpAEQvU+SW8p7hAFO4=       0  30.0        12   \n",
       "20  W5UIVAX8xv2iZFRYSjDEOmX3wcpAEQvU+SW8p7hAFO4=       0  30.0        12   \n",
       "\n",
       "    price  \n",
       "8   324.5  \n",
       "17  424.5  \n",
       "18  424.5  \n",
       "19   24.5  \n",
       "20   24.5  "
      ]
     },
     "execution_count": 131,
     "metadata": {},
     "output_type": "execute_result"
    }
   ],
   "source": [
    "df.head()"
   ]
  },
  {
   "cell_type": "code",
   "execution_count": 132,
   "metadata": {},
   "outputs": [],
   "source": [
    "from sklearn.preprocessing import StandardScaler"
   ]
  },
  {
   "cell_type": "code",
   "execution_count": 133,
   "metadata": {},
   "outputs": [],
   "source": [
    "variables = ['category', 'gender', 'age']\n",
    "x = df.loc[:, variables].values\n",
    "y = df.loc[:,['price']].values\n",
    "x = StandardScaler().fit_transform(x)\n",
    "x = pd.DataFrame(x)"
   ]
  },
  {
   "cell_type": "code",
   "execution_count": 134,
   "metadata": {},
   "outputs": [],
   "source": [
    "from sklearn.decomposition import PCA"
   ]
  },
  {
   "cell_type": "code",
   "execution_count": 135,
   "metadata": {},
   "outputs": [
    {
     "data": {
      "text/html": [
       "<div>\n",
       "<style scoped>\n",
       "    .dataframe tbody tr th:only-of-type {\n",
       "        vertical-align: middle;\n",
       "    }\n",
       "\n",
       "    .dataframe tbody tr th {\n",
       "        vertical-align: top;\n",
       "    }\n",
       "\n",
       "    .dataframe thead th {\n",
       "        text-align: right;\n",
       "    }\n",
       "</style>\n",
       "<table border=\"1\" class=\"dataframe\">\n",
       "  <thead>\n",
       "    <tr style=\"text-align: right;\">\n",
       "      <th></th>\n",
       "      <th>0</th>\n",
       "      <th>1</th>\n",
       "      <th>2</th>\n",
       "    </tr>\n",
       "  </thead>\n",
       "  <tbody>\n",
       "    <tr>\n",
       "      <th>0</th>\n",
       "      <td>-1.550585</td>\n",
       "      <td>-0.286133</td>\n",
       "      <td>-0.960722</td>\n",
       "    </tr>\n",
       "    <tr>\n",
       "      <th>1</th>\n",
       "      <td>-0.851856</td>\n",
       "      <td>-0.547489</td>\n",
       "      <td>-0.397440</td>\n",
       "    </tr>\n",
       "    <tr>\n",
       "      <th>2</th>\n",
       "      <td>-0.851856</td>\n",
       "      <td>-0.547489</td>\n",
       "      <td>-0.397440</td>\n",
       "    </tr>\n",
       "    <tr>\n",
       "      <th>3</th>\n",
       "      <td>-0.851856</td>\n",
       "      <td>-0.547489</td>\n",
       "      <td>-0.397440</td>\n",
       "    </tr>\n",
       "    <tr>\n",
       "      <th>4</th>\n",
       "      <td>-0.851856</td>\n",
       "      <td>-0.547489</td>\n",
       "      <td>-0.397440</td>\n",
       "    </tr>\n",
       "  </tbody>\n",
       "</table>\n",
       "</div>"
      ],
      "text/plain": [
       "          0         1         2\n",
       "0 -1.550585 -0.286133 -0.960722\n",
       "1 -0.851856 -0.547489 -0.397440\n",
       "2 -0.851856 -0.547489 -0.397440\n",
       "3 -0.851856 -0.547489 -0.397440\n",
       "4 -0.851856 -0.547489 -0.397440"
      ]
     },
     "execution_count": 135,
     "metadata": {},
     "output_type": "execute_result"
    }
   ],
   "source": [
    "pca = PCA()\n",
    "x_pca = pca.fit_transform(x)\n",
    "x_pca = pd.DataFrame(x_pca)\n",
    "x_pca.head()"
   ]
  },
  {
   "cell_type": "markdown",
   "metadata": {},
   "source": [
    "### From Below, we can see that only two parameter cannot even capture 70% of the variance of the data, therefore we won't conduct any dimention reduction here."
   ]
  },
  {
   "cell_type": "code",
   "execution_count": 136,
   "metadata": {},
   "outputs": [
    {
     "data": {
      "text/plain": [
       "0.6851997741887046"
      ]
     },
     "execution_count": 136,
     "metadata": {},
     "output_type": "execute_result"
    }
   ],
   "source": [
    "explained_variance = pca.explained_variance_ratio_\n",
    "explained_variance[:2].sum()"
   ]
  },
  {
   "cell_type": "code",
   "execution_count": 137,
   "metadata": {},
   "outputs": [
    {
     "data": {
      "text/html": [
       "<div>\n",
       "<style scoped>\n",
       "    .dataframe tbody tr th:only-of-type {\n",
       "        vertical-align: middle;\n",
       "    }\n",
       "\n",
       "    .dataframe tbody tr th {\n",
       "        vertical-align: top;\n",
       "    }\n",
       "\n",
       "    .dataframe thead th {\n",
       "        text-align: right;\n",
       "    }\n",
       "</style>\n",
       "<table border=\"1\" class=\"dataframe\">\n",
       "  <thead>\n",
       "    <tr style=\"text-align: right;\">\n",
       "      <th></th>\n",
       "      <th>category</th>\n",
       "      <th>gender</th>\n",
       "      <th>age</th>\n",
       "      <th>price</th>\n",
       "    </tr>\n",
       "  </thead>\n",
       "  <tbody>\n",
       "    <tr>\n",
       "      <th>0</th>\n",
       "      <td>-1.550585</td>\n",
       "      <td>-0.286133</td>\n",
       "      <td>-0.960722</td>\n",
       "      <td>324.5</td>\n",
       "    </tr>\n",
       "    <tr>\n",
       "      <th>1</th>\n",
       "      <td>-0.851856</td>\n",
       "      <td>-0.547489</td>\n",
       "      <td>-0.397440</td>\n",
       "      <td>424.5</td>\n",
       "    </tr>\n",
       "    <tr>\n",
       "      <th>2</th>\n",
       "      <td>-0.851856</td>\n",
       "      <td>-0.547489</td>\n",
       "      <td>-0.397440</td>\n",
       "      <td>424.5</td>\n",
       "    </tr>\n",
       "    <tr>\n",
       "      <th>3</th>\n",
       "      <td>-0.851856</td>\n",
       "      <td>-0.547489</td>\n",
       "      <td>-0.397440</td>\n",
       "      <td>24.5</td>\n",
       "    </tr>\n",
       "    <tr>\n",
       "      <th>4</th>\n",
       "      <td>-0.851856</td>\n",
       "      <td>-0.547489</td>\n",
       "      <td>-0.397440</td>\n",
       "      <td>24.5</td>\n",
       "    </tr>\n",
       "  </tbody>\n",
       "</table>\n",
       "</div>"
      ],
      "text/plain": [
       "   category    gender       age  price\n",
       "0 -1.550585 -0.286133 -0.960722  324.5\n",
       "1 -0.851856 -0.547489 -0.397440  424.5\n",
       "2 -0.851856 -0.547489 -0.397440  424.5\n",
       "3 -0.851856 -0.547489 -0.397440   24.5\n",
       "4 -0.851856 -0.547489 -0.397440   24.5"
      ]
     },
     "execution_count": 137,
     "metadata": {},
     "output_type": "execute_result"
    }
   ],
   "source": [
    "x_pca['price']=y\n",
    "x_pca.columns = ['category', 'gender', 'age', 'price']\n",
    "x_pca.head()"
   ]
  },
  {
   "cell_type": "markdown",
   "metadata": {},
   "source": [
    "# Regression Nathalie<hr>"
   ]
  },
  {
   "cell_type": "markdown",
   "metadata": {},
   "source": [
    "## Thing's to do <br>\n",
    "<h3><ol>\n",
    "<li> train test split: Use sklearn library, 80% training 20% test</li>\n",
    "<li> Model Training: use the best degree aka the best fit line</li>\n",
    "<li> Performance Testing: Use R2 and RMS From HW 5</li>\n",
    "</ol></h3>"
   ]
  },
  {
   "cell_type": "code",
   "execution_count": 138,
   "metadata": {},
   "outputs": [
    {
     "data": {
      "text/html": [
       "<div>\n",
       "<style scoped>\n",
       "    .dataframe tbody tr th:only-of-type {\n",
       "        vertical-align: middle;\n",
       "    }\n",
       "\n",
       "    .dataframe tbody tr th {\n",
       "        vertical-align: top;\n",
       "    }\n",
       "\n",
       "    .dataframe thead th {\n",
       "        text-align: right;\n",
       "    }\n",
       "</style>\n",
       "<table border=\"1\" class=\"dataframe\">\n",
       "  <thead>\n",
       "    <tr style=\"text-align: right;\">\n",
       "      <th></th>\n",
       "      <th>user</th>\n",
       "      <th>gender</th>\n",
       "      <th>age</th>\n",
       "      <th>category</th>\n",
       "      <th>price</th>\n",
       "    </tr>\n",
       "  </thead>\n",
       "  <tbody>\n",
       "    <tr>\n",
       "      <th>8</th>\n",
       "      <td>LHXRgMIvLsJIsBZ9EcE6h8jLWkWboqseR1ftfkTPD/U=</td>\n",
       "      <td>0</td>\n",
       "      <td>22.5</td>\n",
       "      <td>12</td>\n",
       "      <td>324.5</td>\n",
       "    </tr>\n",
       "    <tr>\n",
       "      <th>17</th>\n",
       "      <td>W5UIVAX8xv2iZFRYSjDEOmX3wcpAEQvU+SW8p7hAFO4=</td>\n",
       "      <td>0</td>\n",
       "      <td>30.0</td>\n",
       "      <td>12</td>\n",
       "      <td>424.5</td>\n",
       "    </tr>\n",
       "    <tr>\n",
       "      <th>18</th>\n",
       "      <td>W5UIVAX8xv2iZFRYSjDEOmX3wcpAEQvU+SW8p7hAFO4=</td>\n",
       "      <td>0</td>\n",
       "      <td>30.0</td>\n",
       "      <td>12</td>\n",
       "      <td>424.5</td>\n",
       "    </tr>\n",
       "    <tr>\n",
       "      <th>19</th>\n",
       "      <td>W5UIVAX8xv2iZFRYSjDEOmX3wcpAEQvU+SW8p7hAFO4=</td>\n",
       "      <td>0</td>\n",
       "      <td>30.0</td>\n",
       "      <td>12</td>\n",
       "      <td>24.5</td>\n",
       "    </tr>\n",
       "    <tr>\n",
       "      <th>20</th>\n",
       "      <td>W5UIVAX8xv2iZFRYSjDEOmX3wcpAEQvU+SW8p7hAFO4=</td>\n",
       "      <td>0</td>\n",
       "      <td>30.0</td>\n",
       "      <td>12</td>\n",
       "      <td>24.5</td>\n",
       "    </tr>\n",
       "  </tbody>\n",
       "</table>\n",
       "</div>"
      ],
      "text/plain": [
       "                                            user  gender   age  category  \\\n",
       "8   LHXRgMIvLsJIsBZ9EcE6h8jLWkWboqseR1ftfkTPD/U=       0  22.5        12   \n",
       "17  W5UIVAX8xv2iZFRYSjDEOmX3wcpAEQvU+SW8p7hAFO4=       0  30.0        12   \n",
       "18  W5UIVAX8xv2iZFRYSjDEOmX3wcpAEQvU+SW8p7hAFO4=       0  30.0        12   \n",
       "19  W5UIVAX8xv2iZFRYSjDEOmX3wcpAEQvU+SW8p7hAFO4=       0  30.0        12   \n",
       "20  W5UIVAX8xv2iZFRYSjDEOmX3wcpAEQvU+SW8p7hAFO4=       0  30.0        12   \n",
       "\n",
       "    price  \n",
       "8   324.5  \n",
       "17  424.5  \n",
       "18  424.5  \n",
       "19   24.5  \n",
       "20   24.5  "
      ]
     },
     "execution_count": 138,
     "metadata": {},
     "output_type": "execute_result"
    }
   ],
   "source": [
    "df.head()"
   ]
  },
  {
   "cell_type": "code",
   "execution_count": 139,
   "metadata": {},
   "outputs": [
    {
     "name": "stdout",
     "output_type": "stream",
     "text": [
      "106446\n"
     ]
    }
   ],
   "source": [
    "print(len(df))"
   ]
  },
  {
   "cell_type": "markdown",
   "metadata": {},
   "source": [
    "For 3 predictors (), the equation includes all the possible combinations of different order polynomials. This is known as Multi-dimensional Polynomial Regression."
   ]
  },
  {
   "cell_type": "markdown",
   "metadata": {},
   "source": [
    "1. Import all libraries needed"
   ]
  },
  {
   "cell_type": "code",
   "execution_count": 140,
   "metadata": {},
   "outputs": [],
   "source": [
    "from sklearn.model_selection import train_test_split\n",
    "from sklearn.linear_model import LinearRegression\n",
    "from sklearn.preprocessing import PolynomialFeatures\n",
    "from sklearn.metrics import r2_score\n",
    "import math\n",
    "import seaborn as sns"
   ]
  },
  {
   "cell_type": "markdown",
   "metadata": {},
   "source": [
    "2. Split the dataframe into traing set and test set"
   ]
  },
  {
   "cell_type": "code",
   "execution_count": 141,
   "metadata": {},
   "outputs": [],
   "source": [
    "training_size = 80\n",
    "test_size = 20\n",
    "\n",
    "# setting the values for independent variable x and dependent variable y\n",
    "features = ['gender','age','category']\n",
    "#x = df.loc[:, features]\n",
    "#y = df.loc[:, ['price']]\n",
    "\n",
    "X = df[['gender', 'age', 'category']]\n",
    "Y = df['price']\n",
    "\n",
    "df = df.sample(frac=1).reset_index(drop=True)# shuffle the data\n",
    "\n",
    "x_train, x_test, y_train, y_test = train_test_split(X, Y, random_state=0, train_size = .8)\n",
    "# random_state is a pseudo-random number parameter that allows you to reproduce the same train test split each time you run the code. "
   ]
  },
  {
   "cell_type": "code",
   "execution_count": 142,
   "metadata": {},
   "outputs": [
    {
     "name": "stdout",
     "output_type": "stream",
     "text": [
      "        gender   age  category\n",
      "8            0  22.5        12\n",
      "17           0  30.0        12\n",
      "18           0  30.0        12\n",
      "19           0  30.0        12\n",
      "20           0  30.0        12\n",
      "...        ...   ...       ...\n",
      "175569       1  30.0        13\n",
      "175570       1  30.0        13\n",
      "175571       0  30.0        13\n",
      "175572       0  30.0        13\n",
      "175573       0  30.0        13\n",
      "\n",
      "[106446 rows x 3 columns]\n"
     ]
    }
   ],
   "source": [
    "print(X)"
   ]
  },
  {
   "cell_type": "code",
   "execution_count": 143,
   "metadata": {},
   "outputs": [
    {
     "data": {
      "text/plain": [
       "pandas.core.series.Series"
      ]
     },
     "execution_count": 143,
     "metadata": {},
     "output_type": "execute_result"
    }
   ],
   "source": [
    "type(X)\n",
    "type(Y)"
   ]
  },
  {
   "cell_type": "code",
   "execution_count": 144,
   "metadata": {},
   "outputs": [
    {
     "data": {
      "text/html": [
       "<div>\n",
       "<style scoped>\n",
       "    .dataframe tbody tr th:only-of-type {\n",
       "        vertical-align: middle;\n",
       "    }\n",
       "\n",
       "    .dataframe tbody tr th {\n",
       "        vertical-align: top;\n",
       "    }\n",
       "\n",
       "    .dataframe thead th {\n",
       "        text-align: right;\n",
       "    }\n",
       "</style>\n",
       "<table border=\"1\" class=\"dataframe\">\n",
       "  <thead>\n",
       "    <tr style=\"text-align: right;\">\n",
       "      <th></th>\n",
       "      <th>gender</th>\n",
       "      <th>age</th>\n",
       "      <th>category</th>\n",
       "    </tr>\n",
       "  </thead>\n",
       "  <tbody>\n",
       "    <tr>\n",
       "      <th>130037</th>\n",
       "      <td>0</td>\n",
       "      <td>50.000000</td>\n",
       "      <td>12</td>\n",
       "    </tr>\n",
       "    <tr>\n",
       "      <th>108356</th>\n",
       "      <td>1</td>\n",
       "      <td>30.000000</td>\n",
       "      <td>12</td>\n",
       "    </tr>\n",
       "    <tr>\n",
       "      <th>13771</th>\n",
       "      <td>0</td>\n",
       "      <td>30.000000</td>\n",
       "      <td>12</td>\n",
       "    </tr>\n",
       "    <tr>\n",
       "      <th>84125</th>\n",
       "      <td>0</td>\n",
       "      <td>35.822573</td>\n",
       "      <td>12</td>\n",
       "    </tr>\n",
       "    <tr>\n",
       "      <th>84894</th>\n",
       "      <td>1</td>\n",
       "      <td>60.000000</td>\n",
       "      <td>8</td>\n",
       "    </tr>\n",
       "    <tr>\n",
       "      <th>...</th>\n",
       "      <td>...</td>\n",
       "      <td>...</td>\n",
       "      <td>...</td>\n",
       "    </tr>\n",
       "    <tr>\n",
       "      <th>33357</th>\n",
       "      <td>1</td>\n",
       "      <td>50.000000</td>\n",
       "      <td>12</td>\n",
       "    </tr>\n",
       "    <tr>\n",
       "      <th>74718</th>\n",
       "      <td>0</td>\n",
       "      <td>50.000000</td>\n",
       "      <td>12</td>\n",
       "    </tr>\n",
       "    <tr>\n",
       "      <th>69808</th>\n",
       "      <td>0</td>\n",
       "      <td>35.822573</td>\n",
       "      <td>12</td>\n",
       "    </tr>\n",
       "    <tr>\n",
       "      <th>71366</th>\n",
       "      <td>1</td>\n",
       "      <td>35.822573</td>\n",
       "      <td>12</td>\n",
       "    </tr>\n",
       "    <tr>\n",
       "      <th>111662</th>\n",
       "      <td>0</td>\n",
       "      <td>30.000000</td>\n",
       "      <td>12</td>\n",
       "    </tr>\n",
       "  </tbody>\n",
       "</table>\n",
       "<p>85156 rows × 3 columns</p>\n",
       "</div>"
      ],
      "text/plain": [
       "        gender        age  category\n",
       "130037       0  50.000000        12\n",
       "108356       1  30.000000        12\n",
       "13771        0  30.000000        12\n",
       "84125        0  35.822573        12\n",
       "84894        1  60.000000         8\n",
       "...        ...        ...       ...\n",
       "33357        1  50.000000        12\n",
       "74718        0  50.000000        12\n",
       "69808        0  35.822573        12\n",
       "71366        1  35.822573        12\n",
       "111662       0  30.000000        12\n",
       "\n",
       "[85156 rows x 3 columns]"
      ]
     },
     "execution_count": 144,
     "metadata": {},
     "output_type": "execute_result"
    }
   ],
   "source": [
    "x_train"
   ]
  },
  {
   "cell_type": "code",
   "execution_count": 145,
   "metadata": {},
   "outputs": [
    {
     "data": {
      "text/plain": [
       "130037     274.5\n",
       "108356     524.5\n",
       "13771      124.5\n",
       "84125      424.5\n",
       "84894      574.5\n",
       "           ...  \n",
       "33357      124.5\n",
       "74718      424.5\n",
       "69808      624.5\n",
       "71366     1249.5\n",
       "111662     624.5\n",
       "Name: price, Length: 85156, dtype: float64"
      ]
     },
     "execution_count": 145,
     "metadata": {},
     "output_type": "execute_result"
    }
   ],
   "source": [
    "y_train"
   ]
  },
  {
   "cell_type": "code",
   "execution_count": 146,
   "metadata": {},
   "outputs": [
    {
     "data": {
      "text/plain": [
       "user         object\n",
       "gender        int64\n",
       "age         float64\n",
       "category      int64\n",
       "price       float64\n",
       "dtype: object"
      ]
     },
     "execution_count": 146,
     "metadata": {},
     "output_type": "execute_result"
    }
   ],
   "source": [
    "df.dtypes"
   ]
  },
  {
   "cell_type": "markdown",
   "metadata": {},
   "source": [
    "3. Build the Regression Model\n",
    "   \n",
    "    3.1. Multiple linear Regression"
   ]
  },
  {
   "cell_type": "markdown",
   "metadata": {},
   "source": []
  },
  {
   "cell_type": "code",
   "execution_count": 147,
   "metadata": {},
   "outputs": [
    {
     "data": {
      "text/html": [
       "<style>#sk-container-id-4 {color: black;background-color: white;}#sk-container-id-4 pre{padding: 0;}#sk-container-id-4 div.sk-toggleable {background-color: white;}#sk-container-id-4 label.sk-toggleable__label {cursor: pointer;display: block;width: 100%;margin-bottom: 0;padding: 0.3em;box-sizing: border-box;text-align: center;}#sk-container-id-4 label.sk-toggleable__label-arrow:before {content: \"▸\";float: left;margin-right: 0.25em;color: #696969;}#sk-container-id-4 label.sk-toggleable__label-arrow:hover:before {color: black;}#sk-container-id-4 div.sk-estimator:hover label.sk-toggleable__label-arrow:before {color: black;}#sk-container-id-4 div.sk-toggleable__content {max-height: 0;max-width: 0;overflow: hidden;text-align: left;background-color: #f0f8ff;}#sk-container-id-4 div.sk-toggleable__content pre {margin: 0.2em;color: black;border-radius: 0.25em;background-color: #f0f8ff;}#sk-container-id-4 input.sk-toggleable__control:checked~div.sk-toggleable__content {max-height: 200px;max-width: 100%;overflow: auto;}#sk-container-id-4 input.sk-toggleable__control:checked~label.sk-toggleable__label-arrow:before {content: \"▾\";}#sk-container-id-4 div.sk-estimator input.sk-toggleable__control:checked~label.sk-toggleable__label {background-color: #d4ebff;}#sk-container-id-4 div.sk-label input.sk-toggleable__control:checked~label.sk-toggleable__label {background-color: #d4ebff;}#sk-container-id-4 input.sk-hidden--visually {border: 0;clip: rect(1px 1px 1px 1px);clip: rect(1px, 1px, 1px, 1px);height: 1px;margin: -1px;overflow: hidden;padding: 0;position: absolute;width: 1px;}#sk-container-id-4 div.sk-estimator {font-family: monospace;background-color: #f0f8ff;border: 1px dotted black;border-radius: 0.25em;box-sizing: border-box;margin-bottom: 0.5em;}#sk-container-id-4 div.sk-estimator:hover {background-color: #d4ebff;}#sk-container-id-4 div.sk-parallel-item::after {content: \"\";width: 100%;border-bottom: 1px solid gray;flex-grow: 1;}#sk-container-id-4 div.sk-label:hover label.sk-toggleable__label {background-color: #d4ebff;}#sk-container-id-4 div.sk-serial::before {content: \"\";position: absolute;border-left: 1px solid gray;box-sizing: border-box;top: 0;bottom: 0;left: 50%;z-index: 0;}#sk-container-id-4 div.sk-serial {display: flex;flex-direction: column;align-items: center;background-color: white;padding-right: 0.2em;padding-left: 0.2em;position: relative;}#sk-container-id-4 div.sk-item {position: relative;z-index: 1;}#sk-container-id-4 div.sk-parallel {display: flex;align-items: stretch;justify-content: center;background-color: white;position: relative;}#sk-container-id-4 div.sk-item::before, #sk-container-id-4 div.sk-parallel-item::before {content: \"\";position: absolute;border-left: 1px solid gray;box-sizing: border-box;top: 0;bottom: 0;left: 50%;z-index: -1;}#sk-container-id-4 div.sk-parallel-item {display: flex;flex-direction: column;z-index: 1;position: relative;background-color: white;}#sk-container-id-4 div.sk-parallel-item:first-child::after {align-self: flex-end;width: 50%;}#sk-container-id-4 div.sk-parallel-item:last-child::after {align-self: flex-start;width: 50%;}#sk-container-id-4 div.sk-parallel-item:only-child::after {width: 0;}#sk-container-id-4 div.sk-dashed-wrapped {border: 1px dashed gray;margin: 0 0.4em 0.5em 0.4em;box-sizing: border-box;padding-bottom: 0.4em;background-color: white;}#sk-container-id-4 div.sk-label label {font-family: monospace;font-weight: bold;display: inline-block;line-height: 1.2em;}#sk-container-id-4 div.sk-label-container {text-align: center;}#sk-container-id-4 div.sk-container {/* jupyter's `normalize.less` sets `[hidden] { display: none; }` but bootstrap.min.css set `[hidden] { display: none !important; }` so we also need the `!important` here to be able to override the default hidden behavior on the sphinx rendered scikit-learn.org. See: https://github.com/scikit-learn/scikit-learn/issues/21755 */display: inline-block !important;position: relative;}#sk-container-id-4 div.sk-text-repr-fallback {display: none;}</style><div id=\"sk-container-id-4\" class=\"sk-top-container\"><div class=\"sk-text-repr-fallback\"><pre>LinearRegression()</pre><b>In a Jupyter environment, please rerun this cell to show the HTML representation or trust the notebook. <br />On GitHub, the HTML representation is unable to render, please try loading this page with nbviewer.org.</b></div><div class=\"sk-container\" hidden><div class=\"sk-item\"><div class=\"sk-estimator sk-toggleable\"><input class=\"sk-toggleable__control sk-hidden--visually\" id=\"sk-estimator-id-4\" type=\"checkbox\" checked><label for=\"sk-estimator-id-4\" class=\"sk-toggleable__label sk-toggleable__label-arrow\">LinearRegression</label><div class=\"sk-toggleable__content\"><pre>LinearRegression()</pre></div></div></div></div></div>"
      ],
      "text/plain": [
       "LinearRegression()"
      ]
     },
     "execution_count": 147,
     "metadata": {},
     "output_type": "execute_result"
    }
   ],
   "source": [
    "mlr = LinearRegression()\n",
    "mlr.fit(x_train, y_train)"
   ]
  },
  {
   "cell_type": "code",
   "execution_count": 148,
   "metadata": {},
   "outputs": [
    {
     "name": "stdout",
     "output_type": "stream",
     "text": [
      "Intercept:  999.8047215539011\n",
      "Coefficients:\n"
     ]
    },
    {
     "data": {
      "text/plain": [
       "[(0, -20.612674718910032), (1, -2.631137351991721), (2, -12.965201069387424)]"
      ]
     },
     "execution_count": 148,
     "metadata": {},
     "output_type": "execute_result"
    }
   ],
   "source": [
    "# model equation of multiple linear regression\n",
    "print(\"Intercept: \" ,mlr.intercept_)\n",
    "print(\"Coefficients:\")\n",
    "list(zip(x, mlr.coef_))"
   ]
  },
  {
   "cell_type": "code",
   "execution_count": 149,
   "metadata": {},
   "outputs": [
    {
     "name": "stdout",
     "output_type": "stream",
     "text": [
      "Prediction for test set: [740.29238332 740.29238332 853.68980734 ... 712.66544112 795.77437496\n",
      " 729.35552407]\n"
     ]
    }
   ],
   "source": [
    "# prediction of test set\n",
    "y_pred_mlr= mlr.predict(x_test)\n",
    "print(\"Prediction for test set: {}\".format(y_pred_mlr))"
   ]
  },
  {
   "cell_type": "code",
   "execution_count": 150,
   "metadata": {},
   "outputs": [
    {
     "data": {
      "text/html": [
       "<div>\n",
       "<style scoped>\n",
       "    .dataframe tbody tr th:only-of-type {\n",
       "        vertical-align: middle;\n",
       "    }\n",
       "\n",
       "    .dataframe tbody tr th {\n",
       "        vertical-align: top;\n",
       "    }\n",
       "\n",
       "    .dataframe thead th {\n",
       "        text-align: right;\n",
       "    }\n",
       "</style>\n",
       "<table border=\"1\" class=\"dataframe\">\n",
       "  <thead>\n",
       "    <tr style=\"text-align: right;\">\n",
       "      <th></th>\n",
       "      <th>Actual value</th>\n",
       "      <th>Predicted value</th>\n",
       "    </tr>\n",
       "  </thead>\n",
       "  <tbody>\n",
       "    <tr>\n",
       "      <th>130357</th>\n",
       "      <td>574.5</td>\n",
       "      <td>740.292383</td>\n",
       "    </tr>\n",
       "    <tr>\n",
       "      <th>75652</th>\n",
       "      <td>1149.5</td>\n",
       "      <td>740.292383</td>\n",
       "    </tr>\n",
       "    <tr>\n",
       "      <th>80962</th>\n",
       "      <td>374.5</td>\n",
       "      <td>853.689807</td>\n",
       "    </tr>\n",
       "    <tr>\n",
       "      <th>159309</th>\n",
       "      <td>424.5</td>\n",
       "      <td>740.292383</td>\n",
       "    </tr>\n",
       "    <tr>\n",
       "      <th>172962</th>\n",
       "      <td>374.5</td>\n",
       "      <td>804.183791</td>\n",
       "    </tr>\n",
       "  </tbody>\n",
       "</table>\n",
       "</div>"
      ],
      "text/plain": [
       "        Actual value  Predicted value\n",
       "130357         574.5       740.292383\n",
       "75652         1149.5       740.292383\n",
       "80962          374.5       853.689807\n",
       "159309         424.5       740.292383\n",
       "172962         374.5       804.183791"
      ]
     },
     "execution_count": 150,
     "metadata": {},
     "output_type": "execute_result"
    }
   ],
   "source": [
    "# Since it is difficult to plot out a graph with 4 parameter, so I will only plot out the graph comparsion between the actual value and predicted value\n",
    "# Actual values and the predicted values\n",
    "mlr_diff = pd.DataFrame({'Actual value': y_test, 'Predicted value': y_pred_mlr})\n",
    "mlr_diff.head()"
   ]
  },
  {
   "cell_type": "markdown",
   "metadata": {},
   "source": [
    " Evaluation of regression model"
   ]
  },
  {
   "cell_type": "code",
   "execution_count": 151,
   "metadata": {},
   "outputs": [
    {
     "name": "stdout",
     "output_type": "stream",
     "text": [
      "0.0013665942044338575\n"
     ]
    }
   ],
   "source": [
    "score_mlr = mlr.score(x_test, y_test)\n",
    "print(score_mlr)"
   ]
  },
  {
   "cell_type": "markdown",
   "metadata": {},
   "source": [
    " 3. Build the Regression Model\n",
    " \n",
    "    3.2 LASSO Regression Model\n",
    "\n",
    "    LASSO Regression comes in handy when there is too many features, some of them are can be completely eliminated by setting the coefficients to zero, known as \"L1-norm \n",
    "    Regularization\"."
   ]
  },
  {
   "cell_type": "code",
   "execution_count": 152,
   "metadata": {},
   "outputs": [],
   "source": [
    "from sklearn.linear_model import Lasso"
   ]
  },
  {
   "cell_type": "code",
   "execution_count": 153,
   "metadata": {},
   "outputs": [],
   "source": [
    "# define model\n",
    "# create an instance of Lasso Regression implementation\n",
    "model = Lasso(alpha=1.0)\n",
    "# fit the Lasso model\n",
    "model.fit(x_train, y_train)\n",
    "# make prediction\n",
    "y_pred_lasso = model.predict(x_test)"
   ]
  },
  {
   "cell_type": "markdown",
   "metadata": {},
   "source": [
    " Evaluation of regression model"
   ]
  },
  {
   "cell_type": "code",
   "execution_count": 154,
   "metadata": {},
   "outputs": [
    {
     "data": {
      "text/plain": [
       "0.0013869653257722048"
      ]
     },
     "execution_count": 154,
     "metadata": {},
     "output_type": "execute_result"
    }
   ],
   "source": [
    "model.score(x_test,y_test)"
   ]
  },
  {
   "cell_type": "markdown",
   "metadata": {},
   "source": [
    "3. Build the Regression Model\n",
    "\n",
    "    3.3 Random Forest"
   ]
  },
  {
   "cell_type": "markdown",
   "metadata": {},
   "source": [
    "# KNN Tree"
   ]
  },
  {
   "cell_type": "code",
   "execution_count": 155,
   "metadata": {},
   "outputs": [],
   "source": [
    "from sklearn.neighbors import KNeighborsRegressor"
   ]
  },
  {
   "cell_type": "code",
   "execution_count": 156,
   "metadata": {},
   "outputs": [],
   "source": [
    "knn_model = KNeighborsRegressor(n_neighbors=3)"
   ]
  },
  {
   "cell_type": "code",
   "execution_count": 157,
   "metadata": {},
   "outputs": [
    {
     "data": {
      "text/html": [
       "<style>#sk-container-id-5 {color: black;background-color: white;}#sk-container-id-5 pre{padding: 0;}#sk-container-id-5 div.sk-toggleable {background-color: white;}#sk-container-id-5 label.sk-toggleable__label {cursor: pointer;display: block;width: 100%;margin-bottom: 0;padding: 0.3em;box-sizing: border-box;text-align: center;}#sk-container-id-5 label.sk-toggleable__label-arrow:before {content: \"▸\";float: left;margin-right: 0.25em;color: #696969;}#sk-container-id-5 label.sk-toggleable__label-arrow:hover:before {color: black;}#sk-container-id-5 div.sk-estimator:hover label.sk-toggleable__label-arrow:before {color: black;}#sk-container-id-5 div.sk-toggleable__content {max-height: 0;max-width: 0;overflow: hidden;text-align: left;background-color: #f0f8ff;}#sk-container-id-5 div.sk-toggleable__content pre {margin: 0.2em;color: black;border-radius: 0.25em;background-color: #f0f8ff;}#sk-container-id-5 input.sk-toggleable__control:checked~div.sk-toggleable__content {max-height: 200px;max-width: 100%;overflow: auto;}#sk-container-id-5 input.sk-toggleable__control:checked~label.sk-toggleable__label-arrow:before {content: \"▾\";}#sk-container-id-5 div.sk-estimator input.sk-toggleable__control:checked~label.sk-toggleable__label {background-color: #d4ebff;}#sk-container-id-5 div.sk-label input.sk-toggleable__control:checked~label.sk-toggleable__label {background-color: #d4ebff;}#sk-container-id-5 input.sk-hidden--visually {border: 0;clip: rect(1px 1px 1px 1px);clip: rect(1px, 1px, 1px, 1px);height: 1px;margin: -1px;overflow: hidden;padding: 0;position: absolute;width: 1px;}#sk-container-id-5 div.sk-estimator {font-family: monospace;background-color: #f0f8ff;border: 1px dotted black;border-radius: 0.25em;box-sizing: border-box;margin-bottom: 0.5em;}#sk-container-id-5 div.sk-estimator:hover {background-color: #d4ebff;}#sk-container-id-5 div.sk-parallel-item::after {content: \"\";width: 100%;border-bottom: 1px solid gray;flex-grow: 1;}#sk-container-id-5 div.sk-label:hover label.sk-toggleable__label {background-color: #d4ebff;}#sk-container-id-5 div.sk-serial::before {content: \"\";position: absolute;border-left: 1px solid gray;box-sizing: border-box;top: 0;bottom: 0;left: 50%;z-index: 0;}#sk-container-id-5 div.sk-serial {display: flex;flex-direction: column;align-items: center;background-color: white;padding-right: 0.2em;padding-left: 0.2em;position: relative;}#sk-container-id-5 div.sk-item {position: relative;z-index: 1;}#sk-container-id-5 div.sk-parallel {display: flex;align-items: stretch;justify-content: center;background-color: white;position: relative;}#sk-container-id-5 div.sk-item::before, #sk-container-id-5 div.sk-parallel-item::before {content: \"\";position: absolute;border-left: 1px solid gray;box-sizing: border-box;top: 0;bottom: 0;left: 50%;z-index: -1;}#sk-container-id-5 div.sk-parallel-item {display: flex;flex-direction: column;z-index: 1;position: relative;background-color: white;}#sk-container-id-5 div.sk-parallel-item:first-child::after {align-self: flex-end;width: 50%;}#sk-container-id-5 div.sk-parallel-item:last-child::after {align-self: flex-start;width: 50%;}#sk-container-id-5 div.sk-parallel-item:only-child::after {width: 0;}#sk-container-id-5 div.sk-dashed-wrapped {border: 1px dashed gray;margin: 0 0.4em 0.5em 0.4em;box-sizing: border-box;padding-bottom: 0.4em;background-color: white;}#sk-container-id-5 div.sk-label label {font-family: monospace;font-weight: bold;display: inline-block;line-height: 1.2em;}#sk-container-id-5 div.sk-label-container {text-align: center;}#sk-container-id-5 div.sk-container {/* jupyter's `normalize.less` sets `[hidden] { display: none; }` but bootstrap.min.css set `[hidden] { display: none !important; }` so we also need the `!important` here to be able to override the default hidden behavior on the sphinx rendered scikit-learn.org. See: https://github.com/scikit-learn/scikit-learn/issues/21755 */display: inline-block !important;position: relative;}#sk-container-id-5 div.sk-text-repr-fallback {display: none;}</style><div id=\"sk-container-id-5\" class=\"sk-top-container\"><div class=\"sk-text-repr-fallback\"><pre>KNeighborsRegressor(n_neighbors=3)</pre><b>In a Jupyter environment, please rerun this cell to show the HTML representation or trust the notebook. <br />On GitHub, the HTML representation is unable to render, please try loading this page with nbviewer.org.</b></div><div class=\"sk-container\" hidden><div class=\"sk-item\"><div class=\"sk-estimator sk-toggleable\"><input class=\"sk-toggleable__control sk-hidden--visually\" id=\"sk-estimator-id-5\" type=\"checkbox\" checked><label for=\"sk-estimator-id-5\" class=\"sk-toggleable__label sk-toggleable__label-arrow\">KNeighborsRegressor</label><div class=\"sk-toggleable__content\"><pre>KNeighborsRegressor(n_neighbors=3)</pre></div></div></div></div></div>"
      ],
      "text/plain": [
       "KNeighborsRegressor(n_neighbors=3)"
      ]
     },
     "execution_count": 157,
     "metadata": {},
     "output_type": "execute_result"
    }
   ],
   "source": [
    "knn_model.fit(x_train, y_train)"
   ]
  },
  {
   "cell_type": "code",
   "execution_count": 158,
   "metadata": {},
   "outputs": [
    {
     "name": "stdout",
     "output_type": "stream",
     "text": [
      "1290167.4092580413\n"
     ]
    }
   ],
   "source": [
    "from sklearn.metrics import mean_squared_error\n",
    "from math import sqrt\n",
    "train_preds = knn_model.predict(x_train)\n",
    "mse = mean_squared_error(y_train, train_preds)\n",
    "print(mse)"
   ]
  },
  {
   "cell_type": "markdown",
   "metadata": {},
   "source": [
    "# Support Vector Machine"
   ]
  },
  {
   "cell_type": "code",
   "execution_count": 168,
   "metadata": {},
   "outputs": [
    {
     "data": {
      "text/html": [
       "<div>\n",
       "<style scoped>\n",
       "    .dataframe tbody tr th:only-of-type {\n",
       "        vertical-align: middle;\n",
       "    }\n",
       "\n",
       "    .dataframe tbody tr th {\n",
       "        vertical-align: top;\n",
       "    }\n",
       "\n",
       "    .dataframe thead th {\n",
       "        text-align: right;\n",
       "    }\n",
       "</style>\n",
       "<table border=\"1\" class=\"dataframe\">\n",
       "  <thead>\n",
       "    <tr style=\"text-align: right;\">\n",
       "      <th></th>\n",
       "      <th>user</th>\n",
       "      <th>gender</th>\n",
       "      <th>age</th>\n",
       "      <th>category</th>\n",
       "      <th>price</th>\n",
       "    </tr>\n",
       "  </thead>\n",
       "  <tbody>\n",
       "    <tr>\n",
       "      <th>0</th>\n",
       "      <td>eLG1x1kmfHI6Y6yD9V8Jnmj3T4pA8LNxRxiA5GgvPCc=</td>\n",
       "      <td>0</td>\n",
       "      <td>35</td>\n",
       "      <td>12</td>\n",
       "      <td>524.5</td>\n",
       "    </tr>\n",
       "    <tr>\n",
       "      <th>1</th>\n",
       "      <td>CDer6pZRybucggIPO/hCTHhOayCySvvOhfORipqIYyk=</td>\n",
       "      <td>0</td>\n",
       "      <td>35</td>\n",
       "      <td>8</td>\n",
       "      <td>474.5</td>\n",
       "    </tr>\n",
       "    <tr>\n",
       "      <th>2</th>\n",
       "      <td>d/2ctS3CC6FTe3paNFG5tC5wdULFfGgVpCkGaItCtf4=</td>\n",
       "      <td>1</td>\n",
       "      <td>35</td>\n",
       "      <td>12</td>\n",
       "      <td>374.5</td>\n",
       "    </tr>\n",
       "    <tr>\n",
       "      <th>3</th>\n",
       "      <td>NsUhtJeAv+s7wc05iSQu4r66INW2lh/qpM6DC7EG/2U=</td>\n",
       "      <td>0</td>\n",
       "      <td>60</td>\n",
       "      <td>12</td>\n",
       "      <td>374.5</td>\n",
       "    </tr>\n",
       "    <tr>\n",
       "      <th>4</th>\n",
       "      <td>dKvZ4zpkcaL/IW/ulkTnbvDtdYtsp0+JITkqWJ192/M=</td>\n",
       "      <td>0</td>\n",
       "      <td>30</td>\n",
       "      <td>12</td>\n",
       "      <td>674.5</td>\n",
       "    </tr>\n",
       "    <tr>\n",
       "      <th>...</th>\n",
       "      <td>...</td>\n",
       "      <td>...</td>\n",
       "      <td>...</td>\n",
       "      <td>...</td>\n",
       "      <td>...</td>\n",
       "    </tr>\n",
       "    <tr>\n",
       "      <th>106441</th>\n",
       "      <td>tZzkBF321V7HUFGckJxSSXSx2JBUr2uDS6iQKe7vKfU=</td>\n",
       "      <td>1</td>\n",
       "      <td>50</td>\n",
       "      <td>12</td>\n",
       "      <td>224.5</td>\n",
       "    </tr>\n",
       "    <tr>\n",
       "      <th>106442</th>\n",
       "      <td>ZUY/oUj+HrlLU65XrgHL+n5XVjNPHNnM6vBa8QvZ084=</td>\n",
       "      <td>1</td>\n",
       "      <td>60</td>\n",
       "      <td>12</td>\n",
       "      <td>1249.5</td>\n",
       "    </tr>\n",
       "    <tr>\n",
       "      <th>106443</th>\n",
       "      <td>ip3Yaqu6eaeMWreDwmZe0WZTAkXYBmufLeAHf8pQwQc=</td>\n",
       "      <td>0</td>\n",
       "      <td>60</td>\n",
       "      <td>12</td>\n",
       "      <td>374.5</td>\n",
       "    </tr>\n",
       "    <tr>\n",
       "      <th>106444</th>\n",
       "      <td>PK6dzrWgP3m1y/aRoL9o5vBsr1eRwXExD5aVoLxegB0=</td>\n",
       "      <td>0</td>\n",
       "      <td>35</td>\n",
       "      <td>12</td>\n",
       "      <td>874.5</td>\n",
       "    </tr>\n",
       "    <tr>\n",
       "      <th>106445</th>\n",
       "      <td>UNXtraBKJOll1Y8EddpZ9uWpgwLKm6ymmsUdDq4tFGQ=</td>\n",
       "      <td>1</td>\n",
       "      <td>39</td>\n",
       "      <td>12</td>\n",
       "      <td>374.5</td>\n",
       "    </tr>\n",
       "  </tbody>\n",
       "</table>\n",
       "<p>106446 rows × 5 columns</p>\n",
       "</div>"
      ],
      "text/plain": [
       "                                                user  gender  age  category  \\\n",
       "0       eLG1x1kmfHI6Y6yD9V8Jnmj3T4pA8LNxRxiA5GgvPCc=       0   35        12   \n",
       "1       CDer6pZRybucggIPO/hCTHhOayCySvvOhfORipqIYyk=       0   35         8   \n",
       "2       d/2ctS3CC6FTe3paNFG5tC5wdULFfGgVpCkGaItCtf4=       1   35        12   \n",
       "3       NsUhtJeAv+s7wc05iSQu4r66INW2lh/qpM6DC7EG/2U=       0   60        12   \n",
       "4       dKvZ4zpkcaL/IW/ulkTnbvDtdYtsp0+JITkqWJ192/M=       0   30        12   \n",
       "...                                              ...     ...  ...       ...   \n",
       "106441  tZzkBF321V7HUFGckJxSSXSx2JBUr2uDS6iQKe7vKfU=       1   50        12   \n",
       "106442  ZUY/oUj+HrlLU65XrgHL+n5XVjNPHNnM6vBa8QvZ084=       1   60        12   \n",
       "106443  ip3Yaqu6eaeMWreDwmZe0WZTAkXYBmufLeAHf8pQwQc=       0   60        12   \n",
       "106444  PK6dzrWgP3m1y/aRoL9o5vBsr1eRwXExD5aVoLxegB0=       0   35        12   \n",
       "106445  UNXtraBKJOll1Y8EddpZ9uWpgwLKm6ymmsUdDq4tFGQ=       1   39        12   \n",
       "\n",
       "         price  \n",
       "0        524.5  \n",
       "1        474.5  \n",
       "2        374.5  \n",
       "3        374.5  \n",
       "4        674.5  \n",
       "...        ...  \n",
       "106441   224.5  \n",
       "106442  1249.5  \n",
       "106443   374.5  \n",
       "106444   874.5  \n",
       "106445   374.5  \n",
       "\n",
       "[106446 rows x 5 columns]"
      ]
     },
     "execution_count": 168,
     "metadata": {},
     "output_type": "execute_result"
    }
   ],
   "source": [
    "df['age'] = df['age'].astype('int')\n",
    "df"
   ]
  },
  {
   "cell_type": "code",
   "execution_count": 167,
   "metadata": {},
   "outputs": [
    {
     "data": {
      "text/html": [
       "<div>\n",
       "<style scoped>\n",
       "    .dataframe tbody tr th:only-of-type {\n",
       "        vertical-align: middle;\n",
       "    }\n",
       "\n",
       "    .dataframe tbody tr th {\n",
       "        vertical-align: top;\n",
       "    }\n",
       "\n",
       "    .dataframe thead th {\n",
       "        text-align: right;\n",
       "    }\n",
       "</style>\n",
       "<table border=\"1\" class=\"dataframe\">\n",
       "  <thead>\n",
       "    <tr style=\"text-align: right;\">\n",
       "      <th></th>\n",
       "      <th>user</th>\n",
       "      <th>gender</th>\n",
       "      <th>age</th>\n",
       "      <th>category</th>\n",
       "      <th>price</th>\n",
       "    </tr>\n",
       "  </thead>\n",
       "  <tbody>\n",
       "    <tr>\n",
       "      <th>0</th>\n",
       "      <td>eLG1x1kmfHI6Y6yD9V8Jnmj3T4pA8LNxRxiA5GgvPCc=</td>\n",
       "      <td>0</td>\n",
       "      <td>35</td>\n",
       "      <td>12</td>\n",
       "      <td>524.5</td>\n",
       "    </tr>\n",
       "    <tr>\n",
       "      <th>1</th>\n",
       "      <td>CDer6pZRybucggIPO/hCTHhOayCySvvOhfORipqIYyk=</td>\n",
       "      <td>0</td>\n",
       "      <td>35</td>\n",
       "      <td>8</td>\n",
       "      <td>474.5</td>\n",
       "    </tr>\n",
       "    <tr>\n",
       "      <th>2</th>\n",
       "      <td>d/2ctS3CC6FTe3paNFG5tC5wdULFfGgVpCkGaItCtf4=</td>\n",
       "      <td>1</td>\n",
       "      <td>35</td>\n",
       "      <td>12</td>\n",
       "      <td>374.5</td>\n",
       "    </tr>\n",
       "    <tr>\n",
       "      <th>3</th>\n",
       "      <td>NsUhtJeAv+s7wc05iSQu4r66INW2lh/qpM6DC7EG/2U=</td>\n",
       "      <td>0</td>\n",
       "      <td>60</td>\n",
       "      <td>12</td>\n",
       "      <td>374.5</td>\n",
       "    </tr>\n",
       "    <tr>\n",
       "      <th>4</th>\n",
       "      <td>dKvZ4zpkcaL/IW/ulkTnbvDtdYtsp0+JITkqWJ192/M=</td>\n",
       "      <td>0</td>\n",
       "      <td>30</td>\n",
       "      <td>12</td>\n",
       "      <td>674.5</td>\n",
       "    </tr>\n",
       "    <tr>\n",
       "      <th>...</th>\n",
       "      <td>...</td>\n",
       "      <td>...</td>\n",
       "      <td>...</td>\n",
       "      <td>...</td>\n",
       "      <td>...</td>\n",
       "    </tr>\n",
       "    <tr>\n",
       "      <th>106441</th>\n",
       "      <td>tZzkBF321V7HUFGckJxSSXSx2JBUr2uDS6iQKe7vKfU=</td>\n",
       "      <td>1</td>\n",
       "      <td>50</td>\n",
       "      <td>12</td>\n",
       "      <td>224.5</td>\n",
       "    </tr>\n",
       "    <tr>\n",
       "      <th>106442</th>\n",
       "      <td>ZUY/oUj+HrlLU65XrgHL+n5XVjNPHNnM6vBa8QvZ084=</td>\n",
       "      <td>1</td>\n",
       "      <td>60</td>\n",
       "      <td>12</td>\n",
       "      <td>1249.5</td>\n",
       "    </tr>\n",
       "    <tr>\n",
       "      <th>106443</th>\n",
       "      <td>ip3Yaqu6eaeMWreDwmZe0WZTAkXYBmufLeAHf8pQwQc=</td>\n",
       "      <td>0</td>\n",
       "      <td>60</td>\n",
       "      <td>12</td>\n",
       "      <td>374.5</td>\n",
       "    </tr>\n",
       "    <tr>\n",
       "      <th>106444</th>\n",
       "      <td>PK6dzrWgP3m1y/aRoL9o5vBsr1eRwXExD5aVoLxegB0=</td>\n",
       "      <td>0</td>\n",
       "      <td>35</td>\n",
       "      <td>12</td>\n",
       "      <td>874.5</td>\n",
       "    </tr>\n",
       "    <tr>\n",
       "      <th>106445</th>\n",
       "      <td>UNXtraBKJOll1Y8EddpZ9uWpgwLKm6ymmsUdDq4tFGQ=</td>\n",
       "      <td>1</td>\n",
       "      <td>39</td>\n",
       "      <td>12</td>\n",
       "      <td>374.5</td>\n",
       "    </tr>\n",
       "  </tbody>\n",
       "</table>\n",
       "<p>106446 rows × 5 columns</p>\n",
       "</div>"
      ],
      "text/plain": [
       "                                                user  gender  age  category  \\\n",
       "0       eLG1x1kmfHI6Y6yD9V8Jnmj3T4pA8LNxRxiA5GgvPCc=       0   35        12   \n",
       "1       CDer6pZRybucggIPO/hCTHhOayCySvvOhfORipqIYyk=       0   35         8   \n",
       "2       d/2ctS3CC6FTe3paNFG5tC5wdULFfGgVpCkGaItCtf4=       1   35        12   \n",
       "3       NsUhtJeAv+s7wc05iSQu4r66INW2lh/qpM6DC7EG/2U=       0   60        12   \n",
       "4       dKvZ4zpkcaL/IW/ulkTnbvDtdYtsp0+JITkqWJ192/M=       0   30        12   \n",
       "...                                              ...     ...  ...       ...   \n",
       "106441  tZzkBF321V7HUFGckJxSSXSx2JBUr2uDS6iQKe7vKfU=       1   50        12   \n",
       "106442  ZUY/oUj+HrlLU65XrgHL+n5XVjNPHNnM6vBa8QvZ084=       1   60        12   \n",
       "106443  ip3Yaqu6eaeMWreDwmZe0WZTAkXYBmufLeAHf8pQwQc=       0   60        12   \n",
       "106444  PK6dzrWgP3m1y/aRoL9o5vBsr1eRwXExD5aVoLxegB0=       0   35        12   \n",
       "106445  UNXtraBKJOll1Y8EddpZ9uWpgwLKm6ymmsUdDq4tFGQ=       1   39        12   \n",
       "\n",
       "         price  \n",
       "0        524.5  \n",
       "1        474.5  \n",
       "2        374.5  \n",
       "3        374.5  \n",
       "4        674.5  \n",
       "...        ...  \n",
       "106441   224.5  \n",
       "106442  1249.5  \n",
       "106443   374.5  \n",
       "106444   874.5  \n",
       "106445   374.5  \n",
       "\n",
       "[106446 rows x 5 columns]"
      ]
     },
     "execution_count": 167,
     "metadata": {},
     "output_type": "execute_result"
    }
   ],
   "source": []
  },
  {
   "cell_type": "code",
   "execution_count": 165,
   "metadata": {},
   "outputs": [
    {
     "data": {
      "text/html": [
       "<div>\n",
       "<style scoped>\n",
       "    .dataframe tbody tr th:only-of-type {\n",
       "        vertical-align: middle;\n",
       "    }\n",
       "\n",
       "    .dataframe tbody tr th {\n",
       "        vertical-align: top;\n",
       "    }\n",
       "\n",
       "    .dataframe thead th {\n",
       "        text-align: right;\n",
       "    }\n",
       "</style>\n",
       "<table border=\"1\" class=\"dataframe\">\n",
       "  <thead>\n",
       "    <tr style=\"text-align: right;\">\n",
       "      <th></th>\n",
       "      <th>gender</th>\n",
       "      <th>age</th>\n",
       "      <th>category</th>\n",
       "    </tr>\n",
       "  </thead>\n",
       "  <tbody>\n",
       "    <tr>\n",
       "      <th>130037</th>\n",
       "      <td>0</td>\n",
       "      <td>50.000000</td>\n",
       "      <td>12</td>\n",
       "    </tr>\n",
       "    <tr>\n",
       "      <th>108356</th>\n",
       "      <td>1</td>\n",
       "      <td>30.000000</td>\n",
       "      <td>12</td>\n",
       "    </tr>\n",
       "    <tr>\n",
       "      <th>13771</th>\n",
       "      <td>0</td>\n",
       "      <td>30.000000</td>\n",
       "      <td>12</td>\n",
       "    </tr>\n",
       "    <tr>\n",
       "      <th>84125</th>\n",
       "      <td>0</td>\n",
       "      <td>35.822573</td>\n",
       "      <td>12</td>\n",
       "    </tr>\n",
       "    <tr>\n",
       "      <th>84894</th>\n",
       "      <td>1</td>\n",
       "      <td>60.000000</td>\n",
       "      <td>8</td>\n",
       "    </tr>\n",
       "    <tr>\n",
       "      <th>...</th>\n",
       "      <td>...</td>\n",
       "      <td>...</td>\n",
       "      <td>...</td>\n",
       "    </tr>\n",
       "    <tr>\n",
       "      <th>33357</th>\n",
       "      <td>1</td>\n",
       "      <td>50.000000</td>\n",
       "      <td>12</td>\n",
       "    </tr>\n",
       "    <tr>\n",
       "      <th>74718</th>\n",
       "      <td>0</td>\n",
       "      <td>50.000000</td>\n",
       "      <td>12</td>\n",
       "    </tr>\n",
       "    <tr>\n",
       "      <th>69808</th>\n",
       "      <td>0</td>\n",
       "      <td>35.822573</td>\n",
       "      <td>12</td>\n",
       "    </tr>\n",
       "    <tr>\n",
       "      <th>71366</th>\n",
       "      <td>1</td>\n",
       "      <td>35.822573</td>\n",
       "      <td>12</td>\n",
       "    </tr>\n",
       "    <tr>\n",
       "      <th>111662</th>\n",
       "      <td>0</td>\n",
       "      <td>30.000000</td>\n",
       "      <td>12</td>\n",
       "    </tr>\n",
       "  </tbody>\n",
       "</table>\n",
       "<p>85156 rows × 3 columns</p>\n",
       "</div>"
      ],
      "text/plain": [
       "        gender        age  category\n",
       "130037       0  50.000000        12\n",
       "108356       1  30.000000        12\n",
       "13771        0  30.000000        12\n",
       "84125        0  35.822573        12\n",
       "84894        1  60.000000         8\n",
       "...        ...        ...       ...\n",
       "33357        1  50.000000        12\n",
       "74718        0  50.000000        12\n",
       "69808        0  35.822573        12\n",
       "71366        1  35.822573        12\n",
       "111662       0  30.000000        12\n",
       "\n",
       "[85156 rows x 3 columns]"
      ]
     },
     "execution_count": 165,
     "metadata": {},
     "output_type": "execute_result"
    }
   ],
   "source": [
    "x_train"
   ]
  },
  {
   "cell_type": "code",
   "execution_count": 162,
   "metadata": {},
   "outputs": [
    {
     "ename": "ValueError",
     "evalue": "Unknown label type: 'continuous'",
     "output_type": "error",
     "traceback": [
      "\u001b[0;31m---------------------------------------------------------------------------\u001b[0m",
      "\u001b[0;31mValueError\u001b[0m                                Traceback (most recent call last)",
      "\u001b[1;32m/Users/yantszching/Desktop/IEDA3302/IEDA3302_Project/resources.ipynb Cell 72\u001b[0m in \u001b[0;36m<cell line: 3>\u001b[0;34m()\u001b[0m\n\u001b[1;32m      <a href='vscode-notebook-cell:/Users/yantszching/Desktop/IEDA3302/IEDA3302_Project/resources.ipynb#Y130sZmlsZQ%3D%3D?line=0'>1</a>\u001b[0m \u001b[39mfrom\u001b[39;00m \u001b[39msklearn\u001b[39;00m\u001b[39m.\u001b[39;00m\u001b[39msvm\u001b[39;00m \u001b[39mimport\u001b[39;00m SVC\n\u001b[1;32m      <a href='vscode-notebook-cell:/Users/yantszching/Desktop/IEDA3302/IEDA3302_Project/resources.ipynb#Y130sZmlsZQ%3D%3D?line=1'>2</a>\u001b[0m clf \u001b[39m=\u001b[39m SVC(kernel \u001b[39m=\u001b[39m \u001b[39m\"\u001b[39m\u001b[39mlinear\u001b[39m\u001b[39m\"\u001b[39m)\n\u001b[0;32m----> <a href='vscode-notebook-cell:/Users/yantszching/Desktop/IEDA3302/IEDA3302_Project/resources.ipynb#Y130sZmlsZQ%3D%3D?line=2'>3</a>\u001b[0m clf\u001b[39m.\u001b[39;49mfit(x_train, y_train)\n\u001b[1;32m      <a href='vscode-notebook-cell:/Users/yantszching/Desktop/IEDA3302/IEDA3302_Project/resources.ipynb#Y130sZmlsZQ%3D%3D?line=3'>4</a>\u001b[0m y_pred_svm \u001b[39m=\u001b[39m clf\u001b[39m.\u001b[39mpredict(x_test)\n",
      "File \u001b[0;32m~/opt/anaconda3/lib/python3.9/site-packages/sklearn/svm/_base.py:182\u001b[0m, in \u001b[0;36mBaseLibSVM.fit\u001b[0;34m(self, X, y, sample_weight)\u001b[0m\n\u001b[1;32m    172\u001b[0m \u001b[39melse\u001b[39;00m:\n\u001b[1;32m    173\u001b[0m     X, y \u001b[39m=\u001b[39m \u001b[39mself\u001b[39m\u001b[39m.\u001b[39m_validate_data(\n\u001b[1;32m    174\u001b[0m         X,\n\u001b[1;32m    175\u001b[0m         y,\n\u001b[0;32m   (...)\u001b[0m\n\u001b[1;32m    179\u001b[0m         accept_large_sparse\u001b[39m=\u001b[39m\u001b[39mFalse\u001b[39;00m,\n\u001b[1;32m    180\u001b[0m     )\n\u001b[0;32m--> 182\u001b[0m y \u001b[39m=\u001b[39m \u001b[39mself\u001b[39;49m\u001b[39m.\u001b[39;49m_validate_targets(y)\n\u001b[1;32m    184\u001b[0m sample_weight \u001b[39m=\u001b[39m np\u001b[39m.\u001b[39masarray(\n\u001b[1;32m    185\u001b[0m     [] \u001b[39mif\u001b[39;00m sample_weight \u001b[39mis\u001b[39;00m \u001b[39mNone\u001b[39;00m \u001b[39melse\u001b[39;00m sample_weight, dtype\u001b[39m=\u001b[39mnp\u001b[39m.\u001b[39mfloat64\n\u001b[1;32m    186\u001b[0m )\n\u001b[1;32m    187\u001b[0m solver_type \u001b[39m=\u001b[39m LIBSVM_IMPL\u001b[39m.\u001b[39mindex(\u001b[39mself\u001b[39m\u001b[39m.\u001b[39m_impl)\n",
      "File \u001b[0;32m~/opt/anaconda3/lib/python3.9/site-packages/sklearn/svm/_base.py:735\u001b[0m, in \u001b[0;36mBaseSVC._validate_targets\u001b[0;34m(self, y)\u001b[0m\n\u001b[1;32m    733\u001b[0m \u001b[39mdef\u001b[39;00m \u001b[39m_validate_targets\u001b[39m(\u001b[39mself\u001b[39m, y):\n\u001b[1;32m    734\u001b[0m     y_ \u001b[39m=\u001b[39m column_or_1d(y, warn\u001b[39m=\u001b[39m\u001b[39mTrue\u001b[39;00m)\n\u001b[0;32m--> 735\u001b[0m     check_classification_targets(y)\n\u001b[1;32m    736\u001b[0m     \u001b[39mcls\u001b[39m, y \u001b[39m=\u001b[39m np\u001b[39m.\u001b[39munique(y_, return_inverse\u001b[39m=\u001b[39m\u001b[39mTrue\u001b[39;00m)\n\u001b[1;32m    737\u001b[0m     \u001b[39mself\u001b[39m\u001b[39m.\u001b[39mclass_weight_ \u001b[39m=\u001b[39m compute_class_weight(\u001b[39mself\u001b[39m\u001b[39m.\u001b[39mclass_weight, classes\u001b[39m=\u001b[39m\u001b[39mcls\u001b[39m, y\u001b[39m=\u001b[39my_)\n",
      "File \u001b[0;32m~/opt/anaconda3/lib/python3.9/site-packages/sklearn/utils/multiclass.py:200\u001b[0m, in \u001b[0;36mcheck_classification_targets\u001b[0;34m(y)\u001b[0m\n\u001b[1;32m    192\u001b[0m y_type \u001b[39m=\u001b[39m type_of_target(y, input_name\u001b[39m=\u001b[39m\u001b[39m\"\u001b[39m\u001b[39my\u001b[39m\u001b[39m\"\u001b[39m)\n\u001b[1;32m    193\u001b[0m \u001b[39mif\u001b[39;00m y_type \u001b[39mnot\u001b[39;00m \u001b[39min\u001b[39;00m [\n\u001b[1;32m    194\u001b[0m     \u001b[39m\"\u001b[39m\u001b[39mbinary\u001b[39m\u001b[39m\"\u001b[39m,\n\u001b[1;32m    195\u001b[0m     \u001b[39m\"\u001b[39m\u001b[39mmulticlass\u001b[39m\u001b[39m\"\u001b[39m,\n\u001b[0;32m   (...)\u001b[0m\n\u001b[1;32m    198\u001b[0m     \u001b[39m\"\u001b[39m\u001b[39mmultilabel-sequences\u001b[39m\u001b[39m\"\u001b[39m,\n\u001b[1;32m    199\u001b[0m ]:\n\u001b[0;32m--> 200\u001b[0m     \u001b[39mraise\u001b[39;00m \u001b[39mValueError\u001b[39;00m(\u001b[39m\"\u001b[39m\u001b[39mUnknown label type: \u001b[39m\u001b[39m%r\u001b[39;00m\u001b[39m\"\u001b[39m \u001b[39m%\u001b[39m y_type)\n",
      "\u001b[0;31mValueError\u001b[0m: Unknown label type: 'continuous'"
     ]
    }
   ],
   "source": [
    "from sklearn.svm import SVC\n",
    "clf = SVC(kernel = \"linear\")\n",
    "clf.fit(x_train, y_train)\n",
    "y_pred_svm = clf.predict(x_test)"
   ]
  },
  {
   "cell_type": "markdown",
   "metadata": {},
   "source": [
    "# Decision Tree   Joseph<hr>"
   ]
  },
  {
   "cell_type": "code",
   "execution_count": null,
   "metadata": {},
   "outputs": [
    {
     "data": {
      "text/html": [
       "<div>\n",
       "<style scoped>\n",
       "    .dataframe tbody tr th:only-of-type {\n",
       "        vertical-align: middle;\n",
       "    }\n",
       "\n",
       "    .dataframe tbody tr th {\n",
       "        vertical-align: top;\n",
       "    }\n",
       "\n",
       "    .dataframe thead th {\n",
       "        text-align: right;\n",
       "    }\n",
       "</style>\n",
       "<table border=\"1\" class=\"dataframe\">\n",
       "  <thead>\n",
       "    <tr style=\"text-align: right;\">\n",
       "      <th></th>\n",
       "      <th>user</th>\n",
       "      <th>gender</th>\n",
       "      <th>age</th>\n",
       "      <th>category</th>\n",
       "      <th>price</th>\n",
       "    </tr>\n",
       "  </thead>\n",
       "  <tbody>\n",
       "    <tr>\n",
       "      <th>0</th>\n",
       "      <td>qPPZIuTeK9+OUznniwPejjvZ73l3erAdXTcZ1fOGOQo=</td>\n",
       "      <td>0</td>\n",
       "      <td>35.822573</td>\n",
       "      <td>8</td>\n",
       "      <td>374.5</td>\n",
       "    </tr>\n",
       "    <tr>\n",
       "      <th>1</th>\n",
       "      <td>kB61mwAQ9hreWIyYjnd/KSKuAYO1gy8fYXEMZuC8ye8=</td>\n",
       "      <td>0</td>\n",
       "      <td>30.000000</td>\n",
       "      <td>12</td>\n",
       "      <td>374.5</td>\n",
       "    </tr>\n",
       "    <tr>\n",
       "      <th>2</th>\n",
       "      <td>l1a3JTB/2mBspLk3nB/kZiWgq/drd51QaiL3ntppcDA=</td>\n",
       "      <td>0</td>\n",
       "      <td>50.000000</td>\n",
       "      <td>12</td>\n",
       "      <td>424.5</td>\n",
       "    </tr>\n",
       "    <tr>\n",
       "      <th>3</th>\n",
       "      <td>3fpJ3jJllfQXbQTDoJjbgmYWrZk3DtkOE6HBMW/zUFw=</td>\n",
       "      <td>1</td>\n",
       "      <td>50.000000</td>\n",
       "      <td>8</td>\n",
       "      <td>1049.5</td>\n",
       "    </tr>\n",
       "    <tr>\n",
       "      <th>4</th>\n",
       "      <td>lAJh4FLIOtNu2eBGJTmdzRHwC6/2bznmvUMYAuy/I5k=</td>\n",
       "      <td>0</td>\n",
       "      <td>35.822573</td>\n",
       "      <td>12</td>\n",
       "      <td>374.5</td>\n",
       "    </tr>\n",
       "  </tbody>\n",
       "</table>\n",
       "</div>"
      ],
      "text/plain": [
       "                                           user  gender        age  category  \\\n",
       "0  qPPZIuTeK9+OUznniwPejjvZ73l3erAdXTcZ1fOGOQo=       0  35.822573         8   \n",
       "1  kB61mwAQ9hreWIyYjnd/KSKuAYO1gy8fYXEMZuC8ye8=       0  30.000000        12   \n",
       "2  l1a3JTB/2mBspLk3nB/kZiWgq/drd51QaiL3ntppcDA=       0  50.000000        12   \n",
       "3  3fpJ3jJllfQXbQTDoJjbgmYWrZk3DtkOE6HBMW/zUFw=       1  50.000000         8   \n",
       "4  lAJh4FLIOtNu2eBGJTmdzRHwC6/2bznmvUMYAuy/I5k=       0  35.822573        12   \n",
       "\n",
       "    price  \n",
       "0   374.5  \n",
       "1   374.5  \n",
       "2   424.5  \n",
       "3  1049.5  \n",
       "4   374.5  "
      ]
     },
     "execution_count": 43,
     "metadata": {},
     "output_type": "execute_result"
    }
   ],
   "source": [
    "df.head()"
   ]
  },
  {
   "cell_type": "markdown",
   "metadata": {},
   "source": [
    "## Thing's to do <br>\n",
    "<h3><ol>\n",
    "<li> train test split: Use sklearn library, 80% training 20% test</li>\n",
    "<li> Model Training</li>\n",
    "<li> Performance Testing: Use R2 and RMS From HW 5</li>\n",
    "</ol></h3>"
   ]
  },
  {
   "cell_type": "markdown",
   "metadata": {},
   "source": [
    "# Visuallization (HW4) <hr>"
   ]
  },
  {
   "cell_type": "markdown",
   "metadata": {},
   "source": [
    "## Thing's to do <br>\n",
    "<h3><ol>\n",
    "<li>Visualize the dimention reduction data</li>\n",
    "<li>Visualize the regression line with data point</li>\n",
    "</ol></h3>"
   ]
  }
 ],
 "metadata": {
  "kernelspec": {
   "display_name": "Python 3.9.12 ('base')",
   "language": "python",
   "name": "python3"
  },
  "language_info": {
   "codemirror_mode": {
    "name": "ipython",
    "version": 3
   },
   "file_extension": ".py",
   "mimetype": "text/x-python",
   "name": "python",
   "nbconvert_exporter": "python",
   "pygments_lexer": "ipython3",
   "version": "3.9.12"
  },
  "orig_nbformat": 4,
  "vscode": {
   "interpreter": {
    "hash": "ec7bbb03e4c97bb872eb592842f0c23621ac667f825caa9ca0a6529f07410e33"
   }
  }
 },
 "nbformat": 4,
 "nbformat_minor": 2
}

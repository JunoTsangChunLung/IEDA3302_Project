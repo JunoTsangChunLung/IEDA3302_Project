{
 "cells": [
  {
   "cell_type": "code",
   "execution_count": 2,
   "metadata": {},
   "outputs": [],
   "source": [
    "import requests"
   ]
  },
  {
   "cell_type": "code",
   "execution_count": 4,
   "metadata": {},
   "outputs": [],
   "source": [
    "token = \"eyJ4NXQiOiJNR05rTnpjeE1EQXdaamN3T0dOak16Sm1aV1ZtWW1NeE9UYzFOekJqWXpBM05tTXlZell3WmpKallqTmhOamM0T0RVM04yVTVaV0l6WW1SbFkyUmtaZyIsImtpZCI6Ik1HTmtOemN4TURBd1pqY3dPR05qTXpKbVpXVm1ZbU14T1RjMU56QmpZekEzTm1NeVl6WXdaakpqWWpOaE5qYzRPRFUzTjJVNVpXSXpZbVJsWTJSa1pnX1JTMjU2IiwiYWxnIjoiUlMyNTYifQ.eyJzdWIiOiJqdW5vdHNhbmcxMDI5QGdtYWlsLmNvbSIsImF1ZCI6WyJnQXFRbF9XdTdXYnFIMFRDZTZNTWFhbm9KdVFhIiwiaHR0cHM6XC9cL29wZW5kYXRhYmFuay5oa3R2bWFsbC5jb20iXSwibmJmIjoxNjY4NjA3NDU4LCJhenAiOiJnQXFRbF9XdTdXYnFIMFRDZTZNTWFhbm9KdVFhIiwic2NvcGUiOiJvcGVuaWQiLCJpc3MiOiJodHRwczpcL1wvYWNjb3VudHMtc3NvLnNob2FsdGVyLmNvbTo0NDNcL29hdXRoMlwvdG9rZW4iLCJncm91cHMiOlsiQXBwbGljYXRpb25cL0RhdGEgQmFuayIsIkFwcGxpY2F0aW9uXC9EYXRhIEJhbmsgQVBJIiwiSW50ZXJuYWxcL2V2ZXJ5b25lIl0sImV4cCI6MTY2ODY5Mzg1OCwiaWF0IjoxNjY4NjA3NDU4LCJqdGkiOiIyNTYyYWMzNC1hZjU0LTQ1YmQtOWQwOS0zMmM0ZGYzYmZiNjkifQ.KusJ4FUrzUNLwYUQOnRd8zJoLf6_Sm0vhiEQ2xZCMQq1Ov1z_2Kfs-XVXTq8oF_LzqV8QVpqThHa7DazKbxIkozdiDNJ0oyI7ETDh4t47wvOXgZDqpgQCVVUnom1D4oegnLPPLfHb0q_DN9zye7GJkSAnVECitO0ah2UqoJOLLHT-f99ZjHkCNHhFo7lfzemn6Uys8zvvgWuQOd9Wghg9AzldKmkIOfDzx2DfwspSGkBl-AbcNe048eG1VKQvc2AB-SoE929ym87yWQGBeHPWoSpOgYP-4kdyInuZXl_MkESoa7LxQVQuEjWZg6xbalum5bgFbudNjOm8sjKy48_MA\""
   ]
  },
  {
   "cell_type": "code",
   "execution_count": 5,
   "metadata": {},
   "outputs": [],
   "source": [
    "url = \"https://opendatabank-apigw.hktvmall.com/gw/api/v1/PublicUser\"\n",
    "\n",
    "payload={\n",
    "    \"sys_take\": \"300000\",\n",
    "    \"sys_skip\": \"0\"\n",
    "}\n",
    "headers = {\n",
    "  'Authorization': f'Bearer {token}',\n",
    "  'Content-Type': 'application/json'\n",
    "}\n",
    "\n",
    "response = requests.request(\"POST\", url, headers=headers, json=payload)\n",
    "feature = [\"hktv_ad_id\", \"gender\", \"age_range\"]\n",
    "\n",
    "f = open(\"sampleJSON.txt\", \"w\").write(response.text)"
   ]
  },
  {
   "cell_type": "code",
   "execution_count": 7,
   "metadata": {},
   "outputs": [
    {
     "name": "stdout",
     "output_type": "stream",
     "text": [
      "300001\n"
     ]
    }
   ],
   "source": [
    "r = open(\"sampleJSON.txt\").read()\n",
    "\n",
    "print(len(r.split('\\n')))"
   ]
  }
 ],
 "metadata": {
  "kernelspec": {
   "display_name": "Python 3.8.9 64-bit",
   "language": "python",
   "name": "python3"
  },
  "language_info": {
   "codemirror_mode": {
    "name": "ipython",
    "version": 3
   },
   "file_extension": ".py",
   "mimetype": "text/x-python",
   "name": "python",
   "nbconvert_exporter": "python",
   "pygments_lexer": "ipython3",
   "version": "3.8.9"
  },
  "orig_nbformat": 4,
  "vscode": {
   "interpreter": {
    "hash": "31f2aee4e71d21fbe5cf8b01ff0e069b9275f58929596ceb00d14d90e3e16cd6"
   }
  }
 },
 "nbformat": 4,
 "nbformat_minor": 2
}
